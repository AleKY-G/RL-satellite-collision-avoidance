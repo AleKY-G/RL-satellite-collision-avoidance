{
 "cells": [
  {
   "cell_type": "code",
   "execution_count": 1,
   "metadata": {
    "collapsed": true
   },
   "outputs": [],
   "source": [
    "import pstats"
   ]
  },
  {
   "cell_type": "code",
   "execution_count": 19,
   "metadata": {},
   "outputs": [],
   "source": [
    "# initial profiling\n",
    "p_init = pstats.Stats('init_collision.prof')\n",
    "# p_init.strip_dirs().sort_stats('time').print_stats(50)"
   ]
  },
  {
   "cell_type": "code",
   "execution_count": 52,
   "metadata": {
    "scrolled": false
   },
   "outputs": [
    {
     "name": "stdout",
     "output_type": "stream",
     "text": [
      "Simulation ended.\n",
      "Collision probability: 0.9999999999996985.\n",
      "Reward: -5994.399999998191.\n"
     ]
    }
   ],
   "source": [
    "%run -m cProfile -o collision.prof collision.py"
   ]
  },
  {
   "cell_type": "code",
   "execution_count": 53,
   "metadata": {
    "scrolled": true
   },
   "outputs": [
    {
     "name": "stdout",
     "output_type": "stream",
     "text": [
      "Tue Jan 23 14:08:17 2018    collision.prof\n",
      "\n",
      "         30860086 function calls (30851360 primitive calls) in 34.398 seconds\n",
      "\n",
      "   Ordered by: internal time\n",
      "   List reduced from 2376 to 50 due to restriction <50>\n",
      "\n",
      "   ncalls  tottime  percall  cumtime  percall filename:lineno(function)\n",
      "   270054    7.485    0.000   24.672    0.000 _distn_infrastructure.py:1709(cdf)\n",
      "   540108    2.816    0.000    3.693    0.000 numerictypes.py:942(_can_coerce_all)\n",
      "  2799354    2.583    0.000    2.583    0.000 {built-in method numpy.core.multiarray.array}\n",
      "   454143    1.408    0.000    1.408    0.000 {method 'reduce' of 'numpy.ufunc' objects}\n",
      "    90018    1.294    0.000   26.303    0.000 api.py:105(coll_prob_estimation)\n",
      "       10    1.265    0.126   33.803    3.380 api.py:254(propagate_forward)\n",
      "   270054    0.951    0.000    4.383    0.000 _distn_infrastructure.py:549(<listcomp>)\n",
      "   810162    0.803    0.000    0.803    0.000 {built-in method numpy.core.multiarray._insert}\n",
      "   180067    0.794    0.000    0.794    0.000 api.py:474(position)\n",
      "   180036    0.755    0.000    2.379    0.000 api.py:51(sum_coll_prob)\n",
      "   450142    0.752    0.000    1.717    0.000 shape_base.py:11(atleast_1d)\n",
      "  1262633    0.678    0.000    1.388    0.000 numeric.py:534(asanyarray)\n",
      "  3780756    0.650    0.000    0.650    0.000 numerictypes.py:951(<listcomp>)\n",
      "   270054    0.592    0.000    0.592    0.000 _distn_infrastructure.py:878(_open_support_mask)\n",
      "    90018    0.584    0.000   29.915    0.000 api.py:326(update_collision_probability)\n",
      "   270054    0.560    0.000    6.315    0.000 _distn_infrastructure.py:524(argsreduce)\n",
      "   540123    0.536    0.000    1.521    0.000 fromnumeric.py:1380(ravel)\n",
      "   270378    0.523    0.000    0.523    0.000 {method 'reshape' of 'numpy.ndarray' objects}\n",
      "  1084005    0.507    0.000    1.560    0.000 numeric.py:463(asarray)\n",
      "   360072    0.506    0.000    0.633    0.000 api.py:95(TestProbability)\n",
      "   810162    0.499    0.000    1.401    0.000 function_base.py:2334(place)\n",
      "   270054    0.497    0.000    3.431    0.000 function_base.py:2283(extract)\n",
      "   270054    0.462    0.000    4.382    0.000 numerictypes.py:964(find_common_type)\n",
      "   270364    0.453    0.000    0.453    0.000 {method 'take' of 'numpy.ndarray' objects}\n",
      "    90018    0.423    0.000   26.881    0.000 api.py:156(danger_debr_and_collision_prob)\n",
      "   271789    0.403    0.000    2.063    0.000 fromnumeric.py:1886(any)\n",
      "2367998/2367996    0.382    0.000    0.383    0.000 {built-in method builtins.isinstance}\n",
      "   270054    0.370    0.000    0.370    0.000 _continuous_distns.py:84(_norm_cdf)\n",
      "   180036    0.337    0.000    0.938    0.000 fromnumeric.py:2408(prod)\n",
      "   540523    0.315    0.000    0.315    0.000 {method 'ravel' of 'numpy.ndarray' objects}\n",
      "   540426    0.309    0.000    1.034    0.000 fromnumeric.py:55(_wrapfunc)\n",
      "    90018    0.285    0.000    0.339    0.000 api.py:302(get_reward)\n",
      "4980464/4980382    0.282    0.000    0.282    0.000 {built-in method builtins.len}\n",
      "   270354    0.237    0.000    0.864    0.000 fromnumeric.py:70(take)\n",
      "   361574    0.223    0.000    0.223    0.000 {built-in method numpy.core.multiarray.zeros}\n",
      "    90048    0.206    0.000    0.206    0.000 {built-in method numpy.core.multiarray.concatenate}\n",
      "   271859    0.202    0.000    1.184    0.000 {method 'any' of 'numpy.ndarray' objects}\n",
      "   270054    0.193    0.000    0.193    0.000 numerictypes.py:1015(<listcomp>)\n",
      "   270114    0.190    0.000    0.190    0.000 {method 'nonzero' of 'numpy.ndarray' objects}\n",
      "    91252    0.159    0.000    0.159    0.000 __init__.py:33(_epoch_ctor)\n",
      "   270500    0.152    0.000    0.152    0.000 {built-in method builtins.min}\n",
      "   270054    0.145    0.000    0.552    0.000 fromnumeric.py:1487(nonzero)\n",
      "    90018    0.121    0.000    0.837    0.000 shape_base.py:239(hstack)\n",
      "   270054    0.115    0.000    0.485    0.000 _continuous_distns.py:143(_cdf)\n",
      "   271859    0.107    0.000    0.982    0.000 _methods.py:37(_any)\n",
      "    90018    0.099    0.000    0.510    0.000 shape_base.py:288(<listcomp>)\n",
      "   270324    0.098    0.000    0.098    0.000 fromnumeric.py:1565(shape)\n",
      "   270054    0.093    0.000    0.093    0.000 _distn_infrastructure.py:863(_argcheck)\n",
      "     5123    0.090    0.000    0.098    0.000 weakref.py:101(__init__)\n",
      "   556197    0.086    0.000    0.087    0.000 {built-in method builtins.getattr}\n",
      "\n",
      "\n"
     ]
    },
    {
     "data": {
      "text/plain": [
       "<pstats.Stats at 0x7f1d70d0dcf8>"
      ]
     },
     "execution_count": 53,
     "metadata": {},
     "output_type": "execute_result"
    }
   ],
   "source": [
    "# profiling after numpy\n",
    "p = pstats.Stats('collision.prof')\n",
    "p.strip_dirs().sort_stats('time').print_stats(50)"
   ]
  },
  {
   "cell_type": "code",
   "execution_count": 54,
   "metadata": {},
   "outputs": [
    {
     "name": "stdout",
     "output_type": "stream",
     "text": [
      "init time: 37.64023699999983\n",
      "new time: 34.39767999999996\n",
      "time difference: 3.24255699999987\n"
     ]
    }
   ],
   "source": [
    "print(\"init time:\", p_init.total_tt)\n",
    "print(\"new time:\", p.total_tt)\n",
    "print(\"time difference:\", p_init.total_tt - p.total_tt)"
   ]
  },
  {
   "cell_type": "markdown",
   "metadata": {},
   "source": [
    "### Comments:\n",
    "\n",
    "* \"cdf\" will go away with replacement \"normal\" approach by \"Hutor\" one. So we reduce time approximately by half.\n",
    "* we could gain some time by optional exceptions using in api, like this:\n",
    "    ```\n",
    "    if excetions == True:\n",
    "        test_sth\n",
    "    ```\n",
    "  end disable testing during ML."
   ]
  }
 ],
 "metadata": {
  "kernelspec": {
   "display_name": "py333",
   "language": "python",
   "name": "py333"
  },
  "language_info": {
   "codemirror_mode": {
    "name": "ipython",
    "version": 3
   },
   "file_extension": ".py",
   "mimetype": "text/x-python",
   "name": "python",
   "nbconvert_exporter": "python",
   "pygments_lexer": "ipython3",
   "version": "3.5.2"
  }
 },
 "nbformat": 4,
 "nbformat_minor": 2
}
