{
 "cells": [
  {
   "cell_type": "markdown",
   "metadata": {},
   "source": [
    "**If sample and actions tables are already there, steps \"sample\" and \"maneuvers\" could be skipped.**"
   ]
  },
  {
   "cell_type": "code",
   "execution_count": 1,
   "metadata": {
    "collapsed": true
   },
   "outputs": [],
   "source": [
    "import numpy as np\n",
    "import pandas as pd\n",
    "\n",
    "from space_navigator.generator import Generator\n",
    "from space_navigator.simulator import Simulator\n",
    "from space_navigator.api import Environment\n",
    "from space_navigator.agent.table_agent import TableAgent\n",
    "from space_navigator.utils import read_environment, get_agent\n",
    "\n",
    "from space_navigator.models.CE import CrossEntropy\n",
    "from space_navigator.models.ES import EvolutionStrategies\n",
    "from space_navigator.models.MCTS import DecisionTree\n",
    "from space_navigator.models.baseline import Baseline"
   ]
  },
  {
   "cell_type": "code",
   "execution_count": 5,
   "metadata": {
    "collapsed": true
   },
   "outputs": [],
   "source": [
    "import os\n",
    "\n",
    "n_situations = 10\n",
    "step = 0.000001\n",
    "\n",
    "# TODO - add ES\n",
    "models = {\n",
    "    \"CE\": CrossEntropy,\n",
    "    \"MCTS\": DecisionTree,\n",
    "    \"baseline\": Baseline,\n",
    "}\n",
    "\n",
    "save_dir_env = \"../../data/environments/generated_sample\"\n",
    "save_dir_maneuvers = \"../../training/agents_tables/generated_sample\"\n",
    "\n",
    "\n",
    "if not os.path.exists(save_dir_env):\n",
    "    os.makedirs(save_dir_env)\n",
    "if not os.path.exists(save_dir_maneuvers):\n",
    "    os.makedirs(save_dir_maneuvers)"
   ]
  },
  {
   "cell_type": "markdown",
   "metadata": {},
   "source": [
    "# Sample"
   ]
  },
  {
   "cell_type": "code",
   "execution_count": 3,
   "metadata": {
    "collapsed": true
   },
   "outputs": [],
   "source": [
    "# generator parameters\n",
    "start_time = 6600\n",
    "end_time = 6600.1\n",
    "n_debris = 2"
   ]
  },
  {
   "cell_type": "code",
   "execution_count": 4,
   "metadata": {
    "collapsed": true
   },
   "outputs": [],
   "source": [
    "# sample of environments\n",
    "for i in range(n_situations):\n",
    "    generator = Generator(start_time, end_time)\n",
    "    generator.add_protected()\n",
    "    for _ in range(n_debris):\n",
    "        generator.add_debris()\n",
    "    generator.save_env(save_dir_env + \"/collision_{}.env\".format(i))"
   ]
  },
  {
   "cell_type": "markdown",
   "metadata": {},
   "source": [
    "# Maneuvers"
   ]
  },
  {
   "cell_type": "code",
   "execution_count": 5,
   "metadata": {},
   "outputs": [],
   "source": [
    "# models and parameters\n",
    "n_actions = 3 # for CE and ES\n",
    "\n",
    "train_params = {}\n",
    "train_params[\"CE\"] = {\n",
    "    \"n_iterations\": 50, \"n_sessions\": 30,\n",
    "}\n",
    "train_params[\"MCTS\"] = {\n",
    "    \"n_iterations\": 100\n",
    "}\n",
    "train_params[\"baseline\"] = {\n",
    "    \"n_samples\": 100\n",
    "}"
   ]
  },
  {
   "cell_type": "code",
   "execution_count": 6,
   "metadata": {},
   "outputs": [
    {
     "name": "stderr",
     "output_type": "stream",
     "text": [
      " 10%|█         | 10/100 [00:00<00:00, 93.90it/s]"
     ]
    },
    {
     "name": "stdout",
     "output_type": "stream",
     "text": [
      "env: 10 of 10\n",
      "model: baseline\n"
     ]
    },
    {
     "name": "stderr",
     "output_type": "stream",
     "text": [
      "100%|██████████| 100/100 [00:01<00:00, 80.74it/s]\n"
     ]
    }
   ],
   "source": [
    "# training\n",
    "from IPython.display import clear_output\n",
    "\n",
    "for i in range(n_situations):\n",
    "    env = read_environment(save_dir_env + \"/collision_{}.env\".format(i))\n",
    "    for name in models:\n",
    "        clear_output(True)\n",
    "        print(\"env: {} of {}\\nmodel: {}\".format(i+1, n_situations, name))\n",
    "        if name in [\"CE\", \"ES\"]:\n",
    "            model = models[name](env, step, n_actions)\n",
    "        else:\n",
    "            model = models[name](env, step)\n",
    "        model.train(**train_params[name])\n",
    "        model.save_action_table(\n",
    "            save_dir_maneuvers + \"/collision_{}_{}.csv\".format(i, name)\n",
    "        )\n"
   ]
  },
  {
   "cell_type": "markdown",
   "metadata": {},
   "source": [
    "# Analysis of results"
   ]
  },
  {
   "cell_type": "markdown",
   "metadata": {},
   "source": [
    "Вопросы:\n",
    "\n",
    "* как лучше представить результаты?\n",
    "* добавить пороговые значение"
   ]
  },
  {
   "cell_type": "code",
   "execution_count": 6,
   "metadata": {},
   "outputs": [],
   "source": [
    "from copy import copy\n",
    "\n",
    "columns = [\"without maneuvers\"] + list(models.keys())\n",
    "data = np.zeros((n_situations, len(columns)))\n",
    "template = pd.DataFrame(data=data, columns=columns)\n",
    "\n",
    "results_reward = copy(template)\n",
    "results_probability = copy(template)\n",
    "results_fuel_cons = copy(template)\n",
    "results_deviation = copy(template)"
   ]
  },
  {
   "cell_type": "code",
   "execution_count": 7,
   "metadata": {},
   "outputs": [
    {
     "name": "stderr",
     "output_type": "stream",
     "text": [
      "100%|██████████| 10/10 [00:00<00:00, 12.41it/s]\n"
     ]
    }
   ],
   "source": [
    "from tqdm import trange\n",
    "\n",
    "# simulations\n",
    "collisions = []\n",
    "for i in trange(n_situations):\n",
    "    \n",
    "    collisions.append(\"collision_{}\".format(i))\n",
    "    env_path = save_dir_env + \"/\" + collisions[-1] + \".env\"\n",
    "    env = read_environment(env_path)   \n",
    "    \n",
    "    for name in columns:\n",
    "        \n",
    "        if name == \"without maneuvers\":\n",
    "            agent = TableAgent()\n",
    "        else:\n",
    "            actions_path = save_dir_maneuvers + \"/collision_{}_{}.csv\".format(i, name)\n",
    "            agent = get_agent(\"table\", actions_path)\n",
    "            \n",
    "        simulator = Simulator(agent, env, step)\n",
    "        r = simulator.run()\n",
    "        \n",
    "        results_reward.loc[i, name] = r\n",
    "        results_probability.loc[i, name] = env.get_total_collision_probability()\n",
    "        results_fuel_cons.loc[i, name] = env.get_fuel_consumption()\n",
    "        results_deviation.loc[i, name] = env.get_trajectory_deviation()\n",
    "        \n",
    "        env.reset()\n",
    "        \n",
    "results_reward.index = collisions\n",
    "results_probability.index = collisions\n",
    "results_fuel_cons.index = collisions\n",
    "results_deviation.index = collisions"
   ]
  },
  {
   "cell_type": "code",
   "execution_count": 8,
   "metadata": {
    "scrolled": true
   },
   "outputs": [
    {
     "data": {
      "text/html": [
       "<div>\n",
       "<style>\n",
       "    .dataframe thead tr:only-child th {\n",
       "        text-align: right;\n",
       "    }\n",
       "\n",
       "    .dataframe thead th {\n",
       "        text-align: left;\n",
       "    }\n",
       "\n",
       "    .dataframe tbody tr th {\n",
       "        vertical-align: top;\n",
       "    }\n",
       "</style>\n",
       "<table border=\"1\" class=\"dataframe\">\n",
       "  <thead>\n",
       "    <tr style=\"text-align: right;\">\n",
       "      <th></th>\n",
       "      <th>without maneuvers</th>\n",
       "      <th>CE</th>\n",
       "      <th>MCTS</th>\n",
       "      <th>baseline</th>\n",
       "    </tr>\n",
       "  </thead>\n",
       "  <tbody>\n",
       "    <tr>\n",
       "      <th>collision_0</th>\n",
       "      <td>-93.260168</td>\n",
       "      <td>-4.706667</td>\n",
       "      <td>-1.335294</td>\n",
       "      <td>-0.138622</td>\n",
       "    </tr>\n",
       "    <tr>\n",
       "      <th>collision_1</th>\n",
       "      <td>-0.159315</td>\n",
       "      <td>-2.290528</td>\n",
       "      <td>-0.159315</td>\n",
       "      <td>-0.116179</td>\n",
       "    </tr>\n",
       "    <tr>\n",
       "      <th>collision_2</th>\n",
       "      <td>-310.345074</td>\n",
       "      <td>-1.999601</td>\n",
       "      <td>-0.944494</td>\n",
       "      <td>-0.515042</td>\n",
       "    </tr>\n",
       "    <tr>\n",
       "      <th>collision_3</th>\n",
       "      <td>-22.141288</td>\n",
       "      <td>-4.180831</td>\n",
       "      <td>-1.592509</td>\n",
       "      <td>-0.354784</td>\n",
       "    </tr>\n",
       "    <tr>\n",
       "      <th>collision_4</th>\n",
       "      <td>-170.846069</td>\n",
       "      <td>-5.003131</td>\n",
       "      <td>-1.423691</td>\n",
       "      <td>-0.304328</td>\n",
       "    </tr>\n",
       "  </tbody>\n",
       "</table>\n",
       "</div>"
      ],
      "text/plain": [
       "             without maneuvers        CE      MCTS  baseline\n",
       "collision_0         -93.260168 -4.706667 -1.335294 -0.138622\n",
       "collision_1          -0.159315 -2.290528 -0.159315 -0.116179\n",
       "collision_2        -310.345074 -1.999601 -0.944494 -0.515042\n",
       "collision_3         -22.141288 -4.180831 -1.592509 -0.354784\n",
       "collision_4        -170.846069 -5.003131 -1.423691 -0.304328"
      ]
     },
     "execution_count": 8,
     "metadata": {},
     "output_type": "execute_result"
    }
   ],
   "source": [
    "results_reward.head()"
   ]
  },
  {
   "cell_type": "code",
   "execution_count": 9,
   "metadata": {
    "scrolled": false
   },
   "outputs": [
    {
     "data": {
      "text/html": [
       "<div>\n",
       "<style>\n",
       "    .dataframe thead tr:only-child th {\n",
       "        text-align: right;\n",
       "    }\n",
       "\n",
       "    .dataframe thead th {\n",
       "        text-align: left;\n",
       "    }\n",
       "\n",
       "    .dataframe tbody tr th {\n",
       "        vertical-align: top;\n",
       "    }\n",
       "</style>\n",
       "<table border=\"1\" class=\"dataframe\">\n",
       "  <thead>\n",
       "    <tr style=\"text-align: right;\">\n",
       "      <th></th>\n",
       "      <th>without maneuvers</th>\n",
       "      <th>CE</th>\n",
       "      <th>MCTS</th>\n",
       "      <th>baseline</th>\n",
       "    </tr>\n",
       "  </thead>\n",
       "  <tbody>\n",
       "    <tr>\n",
       "      <th>collision_0</th>\n",
       "      <td>0.010226</td>\n",
       "      <td>0.000000e+00</td>\n",
       "      <td>0.000015</td>\n",
       "      <td>0.000121</td>\n",
       "    </tr>\n",
       "    <tr>\n",
       "      <th>collision_1</th>\n",
       "      <td>0.000816</td>\n",
       "      <td>9.852574e-06</td>\n",
       "      <td>0.000816</td>\n",
       "      <td>0.000265</td>\n",
       "    </tr>\n",
       "    <tr>\n",
       "      <th>collision_2</th>\n",
       "      <td>0.031935</td>\n",
       "      <td>1.855183e-13</td>\n",
       "      <td>0.000007</td>\n",
       "      <td>0.000342</td>\n",
       "    </tr>\n",
       "    <tr>\n",
       "      <th>collision_3</th>\n",
       "      <td>0.003114</td>\n",
       "      <td>0.000000e+00</td>\n",
       "      <td>0.000079</td>\n",
       "      <td>0.000083</td>\n",
       "    </tr>\n",
       "    <tr>\n",
       "      <th>collision_4</th>\n",
       "      <td>0.017985</td>\n",
       "      <td>0.000000e+00</td>\n",
       "      <td>0.000003</td>\n",
       "      <td>0.000091</td>\n",
       "    </tr>\n",
       "  </tbody>\n",
       "</table>\n",
       "</div>"
      ],
      "text/plain": [
       "             without maneuvers            CE      MCTS  baseline\n",
       "collision_0           0.010226  0.000000e+00  0.000015  0.000121\n",
       "collision_1           0.000816  9.852574e-06  0.000816  0.000265\n",
       "collision_2           0.031935  1.855183e-13  0.000007  0.000342\n",
       "collision_3           0.003114  0.000000e+00  0.000079  0.000083\n",
       "collision_4           0.017985  0.000000e+00  0.000003  0.000091"
      ]
     },
     "execution_count": 9,
     "metadata": {},
     "output_type": "execute_result"
    }
   ],
   "source": [
    "results_probability.head()"
   ]
  },
  {
   "cell_type": "code",
   "execution_count": 10,
   "metadata": {},
   "outputs": [
    {
     "data": {
      "text/html": [
       "<div>\n",
       "<style>\n",
       "    .dataframe thead tr:only-child th {\n",
       "        text-align: right;\n",
       "    }\n",
       "\n",
       "    .dataframe thead th {\n",
       "        text-align: left;\n",
       "    }\n",
       "\n",
       "    .dataframe tbody tr th {\n",
       "        vertical-align: top;\n",
       "    }\n",
       "</style>\n",
       "<table border=\"1\" class=\"dataframe\">\n",
       "  <thead>\n",
       "    <tr style=\"text-align: right;\">\n",
       "      <th></th>\n",
       "      <th>without maneuvers</th>\n",
       "      <th>CE</th>\n",
       "      <th>MCTS</th>\n",
       "      <th>baseline</th>\n",
       "    </tr>\n",
       "  </thead>\n",
       "  <tbody>\n",
       "    <tr>\n",
       "      <th>collision_0</th>\n",
       "      <td>0.0</td>\n",
       "      <td>2.444817</td>\n",
       "      <td>1.243966</td>\n",
       "      <td>0.101010</td>\n",
       "    </tr>\n",
       "    <tr>\n",
       "      <th>collision_1</th>\n",
       "      <td>0.0</td>\n",
       "      <td>1.425698</td>\n",
       "      <td>0.000000</td>\n",
       "      <td>0.101010</td>\n",
       "    </tr>\n",
       "    <tr>\n",
       "      <th>collision_2</th>\n",
       "      <td>0.0</td>\n",
       "      <td>1.664654</td>\n",
       "      <td>0.782375</td>\n",
       "      <td>0.505051</td>\n",
       "    </tr>\n",
       "    <tr>\n",
       "      <th>collision_3</th>\n",
       "      <td>0.0</td>\n",
       "      <td>1.297450</td>\n",
       "      <td>1.388969</td>\n",
       "      <td>0.303030</td>\n",
       "    </tr>\n",
       "    <tr>\n",
       "      <th>collision_4</th>\n",
       "      <td>0.0</td>\n",
       "      <td>1.605035</td>\n",
       "      <td>1.400030</td>\n",
       "      <td>0.303030</td>\n",
       "    </tr>\n",
       "  </tbody>\n",
       "</table>\n",
       "</div>"
      ],
      "text/plain": [
       "             without maneuvers        CE      MCTS  baseline\n",
       "collision_0                0.0  2.444817  1.243966  0.101010\n",
       "collision_1                0.0  1.425698  0.000000  0.101010\n",
       "collision_2                0.0  1.664654  0.782375  0.505051\n",
       "collision_3                0.0  1.297450  1.388969  0.303030\n",
       "collision_4                0.0  1.605035  1.400030  0.303030"
      ]
     },
     "execution_count": 10,
     "metadata": {},
     "output_type": "execute_result"
    }
   ],
   "source": [
    "results_fuel_cons.head()"
   ]
  },
  {
   "cell_type": "code",
   "execution_count": 11,
   "metadata": {},
   "outputs": [
    {
     "data": {
      "text/html": [
       "<div>\n",
       "<style>\n",
       "    .dataframe thead tr:only-child th {\n",
       "        text-align: right;\n",
       "    }\n",
       "\n",
       "    .dataframe thead th {\n",
       "        text-align: left;\n",
       "    }\n",
       "\n",
       "    .dataframe tbody tr th {\n",
       "        vertical-align: top;\n",
       "    }\n",
       "</style>\n",
       "<table border=\"1\" class=\"dataframe\">\n",
       "  <thead>\n",
       "    <tr style=\"text-align: right;\">\n",
       "      <th></th>\n",
       "      <th>without maneuvers</th>\n",
       "      <th>CE</th>\n",
       "      <th>MCTS</th>\n",
       "      <th>baseline</th>\n",
       "    </tr>\n",
       "  </thead>\n",
       "  <tbody>\n",
       "    <tr>\n",
       "      <th>collision_0</th>\n",
       "      <td>0.0</td>\n",
       "      <td>2.261850</td>\n",
       "      <td>0.091275</td>\n",
       "      <td>0.037460</td>\n",
       "    </tr>\n",
       "    <tr>\n",
       "      <th>collision_1</th>\n",
       "      <td>0.0</td>\n",
       "      <td>0.864780</td>\n",
       "      <td>0.000000</td>\n",
       "      <td>0.014527</td>\n",
       "    </tr>\n",
       "    <tr>\n",
       "      <th>collision_2</th>\n",
       "      <td>0.0</td>\n",
       "      <td>0.334901</td>\n",
       "      <td>0.162071</td>\n",
       "      <td>0.008602</td>\n",
       "    </tr>\n",
       "    <tr>\n",
       "      <th>collision_3</th>\n",
       "      <td>0.0</td>\n",
       "      <td>2.883381</td>\n",
       "      <td>0.203440</td>\n",
       "      <td>0.051649</td>\n",
       "    </tr>\n",
       "    <tr>\n",
       "      <th>collision_4</th>\n",
       "      <td>0.0</td>\n",
       "      <td>3.398096</td>\n",
       "      <td>0.023615</td>\n",
       "      <td>0.001185</td>\n",
       "    </tr>\n",
       "  </tbody>\n",
       "</table>\n",
       "</div>"
      ],
      "text/plain": [
       "             without maneuvers        CE      MCTS  baseline\n",
       "collision_0                0.0  2.261850  0.091275  0.037460\n",
       "collision_1                0.0  0.864780  0.000000  0.014527\n",
       "collision_2                0.0  0.334901  0.162071  0.008602\n",
       "collision_3                0.0  2.883381  0.203440  0.051649\n",
       "collision_4                0.0  3.398096  0.023615  0.001185"
      ]
     },
     "execution_count": 11,
     "metadata": {},
     "output_type": "execute_result"
    }
   ],
   "source": [
    "results_deviation.head()"
   ]
  },
  {
   "cell_type": "code",
   "execution_count": null,
   "metadata": {
    "collapsed": true
   },
   "outputs": [],
   "source": []
  }
 ],
 "metadata": {
  "kernelspec": {
   "display_name": "py3.6",
   "language": "python",
   "name": "py3.6"
  },
  "language_info": {
   "codemirror_mode": {
    "name": "ipython",
    "version": 3
   },
   "file_extension": ".py",
   "mimetype": "text/x-python",
   "name": "python",
   "nbconvert_exporter": "python",
   "pygments_lexer": "ipython3",
   "version": "3.6.5"
  }
 },
 "nbformat": 4,
 "nbformat_minor": 2
}
