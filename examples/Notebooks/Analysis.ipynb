{
 "cells": [
  {
   "cell_type": "markdown",
   "metadata": {},
   "source": [
    "**If sample and actions tables are already there, steps \"sample\" and \"maneuvers\" could be skipped.**"
   ]
  },
  {
   "cell_type": "code",
   "execution_count": 1,
   "metadata": {},
   "outputs": [],
   "source": [
    "import numpy as np\n",
    "import pandas as pd\n",
    "\n",
    "from space_navigator.generator import Generator\n",
    "from space_navigator.simulator import Simulator\n",
    "from space_navigator.api import Environment\n",
    "from space_navigator.agent.table_agent import TableAgent\n",
    "from space_navigator.utils import read_environment, get_agent\n",
    "\n",
    "from space_navigator.models.CE import CrossEntropy\n",
    "from space_navigator.models.ES import EvolutionStrategies\n",
    "from space_navigator.models.MCTS import DecisionTree\n",
    "from space_navigator.models.baseline import Baseline"
   ]
  },
  {
   "cell_type": "code",
   "execution_count": 2,
   "metadata": {
    "collapsed": true
   },
   "outputs": [],
   "source": [
    "import os\n",
    "\n",
    "n_situations = 10\n",
    "step = 0.000001\n",
    "\n",
    "models = {\n",
    "    \"CE\": CrossEntropy,\n",
    "    \"ES\": EvolutionStrategies,\n",
    "    \"MCTS\": DecisionTree,\n",
    "    \"baseline\": Baseline,\n",
    "}\n",
    "\n",
    "save_dir_env = \"../../data/environments/generated_sample\"\n",
    "save_dir_maneuvers = \"../../training/agents_tables/generated_sample\"\n",
    "\n",
    "\n",
    "if not os.path.exists(save_dir_env):\n",
    "    os.makedirs(save_dir_env)\n",
    "if not os.path.exists(save_dir_maneuvers):\n",
    "    os.makedirs(save_dir_maneuvers)"
   ]
  },
  {
   "cell_type": "markdown",
   "metadata": {},
   "source": [
    "# Sample"
   ]
  },
  {
   "cell_type": "code",
   "execution_count": 3,
   "metadata": {
    "collapsed": true
   },
   "outputs": [],
   "source": [
    "# generator parameters\n",
    "start_time = 6600\n",
    "end_time = 6600.1\n",
    "n_debris = 2"
   ]
  },
  {
   "cell_type": "code",
   "execution_count": 4,
   "metadata": {
    "collapsed": true
   },
   "outputs": [],
   "source": [
    "# sample of environments\n",
    "for i in range(n_situations):\n",
    "    generator = Generator(start_time, end_time)\n",
    "    generator.add_protected()\n",
    "    for _ in range(n_debris):\n",
    "        generator.add_debris()\n",
    "    generator.save_env(save_dir_env + \"/collision_{}.env\".format(i))"
   ]
  },
  {
   "cell_type": "markdown",
   "metadata": {},
   "source": [
    "# Maneuvers"
   ]
  },
  {
   "cell_type": "code",
   "execution_count": 5,
   "metadata": {
    "collapsed": true
   },
   "outputs": [],
   "source": [
    "# models and parameters\n",
    "n_actions = 3 # for CE and ES\n",
    "n_iterations = 100\n",
    "\n",
    "train_params = {}\n",
    "train_params[\"CE\"] = {\n",
    "    \"n_iterations\": n_iterations, \"n_sessions\": 30,\n",
    "}\n",
    "train_params[\"ES\"] = {\n",
    "    \"iterations\": n_iterations,\n",
    "}\n",
    "train_params[\"MCTS\"] = {\n",
    "    \"n_iterations\": n_iterations,\n",
    "}\n",
    "train_params[\"baseline\"] = {\n",
    "    \"n_samples\": n_iterations,\n",
    "}"
   ]
  },
  {
   "cell_type": "code",
   "execution_count": 6,
   "metadata": {
    "scrolled": true
   },
   "outputs": [],
   "source": [
    "# training\n",
    "from IPython.display import clear_output\n",
    "\n",
    "for i in range(n_situations):\n",
    "    env = read_environment(save_dir_env + \"/collision_{}.env\".format(i))\n",
    "    for name in models:\n",
    "        clear_output(True)\n",
    "        print(\"env: {} of {}\\nmodel: {}\".format(i+1, n_situations, name))\n",
    "        if name in [\"CE\", \"ES\"]:\n",
    "            model = models[name](env, step, n_actions)\n",
    "        else:\n",
    "            model = models[name](env, step)\n",
    "        model.train(**train_params[name])\n",
    "        model.save_action_table(\n",
    "            save_dir_maneuvers + \"/collision_{}_{}.csv\".format(i, name)\n",
    "        )\n"
   ]
  },
  {
   "cell_type": "markdown",
   "metadata": {},
   "source": [
    "# Analysis of results"
   ]
  },
  {
   "cell_type": "markdown",
   "metadata": {},
   "source": [
    "Вопросы:\n",
    "\n",
    "* как лучше представить результаты?\n",
    "* добавить пороговые значение"
   ]
  },
  {
   "cell_type": "code",
   "execution_count": 14,
   "metadata": {
    "collapsed": true
   },
   "outputs": [],
   "source": [
    "from copy import copy\n",
    "\n",
    "columns = [\"without maneuvers\"] + list(models.keys())\n",
    "data = np.zeros((n_situations, len(columns)))\n",
    "template = pd.DataFrame(data=data, columns=columns)\n",
    "\n",
    "results_reward = copy(template)\n",
    "results_probability = copy(template)\n",
    "results_fuel_cons = copy(template)\n",
    "results_deviation = copy(template)"
   ]
  },
  {
   "cell_type": "code",
   "execution_count": 15,
   "metadata": {},
   "outputs": [
    {
     "name": "stderr",
     "output_type": "stream",
     "text": [
      "100%|██████████| 10/10 [00:01<00:00,  9.26it/s]\n"
     ]
    }
   ],
   "source": [
    "from tqdm import trange\n",
    "from IPython.display import clear_output\n",
    "\n",
    "# simulations\n",
    "collisions = []\n",
    "for i in trange(n_situations):\n",
    "    \n",
    "    collisions.append(\"collision_{}\".format(i))\n",
    "    env_path = save_dir_env + \"/\" + collisions[-1] + \".env\"\n",
    "    env = read_environment(env_path)   \n",
    "    \n",
    "    for name in columns:\n",
    "        clear_output(True)\n",
    "        if name == \"without maneuvers\":\n",
    "            agent = TableAgent()\n",
    "        else:\n",
    "            actions_path = save_dir_maneuvers + \"/collision_{}_{}.csv\".format(i, name)\n",
    "            agent = get_agent(\"table\", actions_path)        \n",
    "            \n",
    "        simulator = Simulator(agent, env, step)\n",
    "        r = simulator.run()\n",
    "        \n",
    "        results_reward.loc[i, name] = r\n",
    "        results_probability.loc[i, name] = env.get_total_collision_probability()\n",
    "        results_fuel_cons.loc[i, name] = env.get_fuel_consumption()\n",
    "        results_deviation.loc[i, name] = env.get_trajectory_deviation()\n",
    "        \n",
    "        env.reset()\n",
    "        \n",
    "results_reward.index = collisions\n",
    "results_probability.index = collisions\n",
    "results_fuel_cons.index = collisions\n",
    "results_deviation.index = collisions"
   ]
  },
  {
   "cell_type": "code",
   "execution_count": 16,
   "metadata": {
    "scrolled": true
   },
   "outputs": [
    {
     "data": {
      "text/html": [
       "<div>\n",
       "<style>\n",
       "    .dataframe thead tr:only-child th {\n",
       "        text-align: right;\n",
       "    }\n",
       "\n",
       "    .dataframe thead th {\n",
       "        text-align: left;\n",
       "    }\n",
       "\n",
       "    .dataframe tbody tr th {\n",
       "        vertical-align: top;\n",
       "    }\n",
       "</style>\n",
       "<table border=\"1\" class=\"dataframe\">\n",
       "  <thead>\n",
       "    <tr style=\"text-align: right;\">\n",
       "      <th></th>\n",
       "      <th>without maneuvers</th>\n",
       "      <th>CE</th>\n",
       "      <th>ES</th>\n",
       "      <th>MCTS</th>\n",
       "      <th>baseline</th>\n",
       "    </tr>\n",
       "  </thead>\n",
       "  <tbody>\n",
       "    <tr>\n",
       "      <th>collision_0</th>\n",
       "      <td>-93.260168</td>\n",
       "      <td>-4.090741</td>\n",
       "      <td>-55.849232</td>\n",
       "      <td>-17.865304</td>\n",
       "      <td>-1.135087</td>\n",
       "    </tr>\n",
       "    <tr>\n",
       "      <th>collision_1</th>\n",
       "      <td>-0.159315</td>\n",
       "      <td>-2.190899</td>\n",
       "      <td>-44.443494</td>\n",
       "      <td>-0.159315</td>\n",
       "      <td>-1.183781</td>\n",
       "    </tr>\n",
       "    <tr>\n",
       "      <th>collision_2</th>\n",
       "      <td>-310.345074</td>\n",
       "      <td>-145.821036</td>\n",
       "      <td>-21.430439</td>\n",
       "      <td>-109.784236</td>\n",
       "      <td>-5.046067</td>\n",
       "    </tr>\n",
       "    <tr>\n",
       "      <th>collision_3</th>\n",
       "      <td>-22.141288</td>\n",
       "      <td>-3.043910</td>\n",
       "      <td>-10.415201</td>\n",
       "      <td>-20.198665</td>\n",
       "      <td>-3.039867</td>\n",
       "    </tr>\n",
       "    <tr>\n",
       "      <th>collision_4</th>\n",
       "      <td>-170.846069</td>\n",
       "      <td>-83.236270</td>\n",
       "      <td>-8.576483</td>\n",
       "      <td>-170.846069</td>\n",
       "      <td>-3.590721</td>\n",
       "    </tr>\n",
       "  </tbody>\n",
       "</table>\n",
       "</div>"
      ],
      "text/plain": [
       "             without maneuvers          CE         ES        MCTS  baseline\n",
       "collision_0         -93.260168   -4.090741 -55.849232  -17.865304 -1.135087\n",
       "collision_1          -0.159315   -2.190899 -44.443494   -0.159315 -1.183781\n",
       "collision_2        -310.345074 -145.821036 -21.430439 -109.784236 -5.046067\n",
       "collision_3         -22.141288   -3.043910 -10.415201  -20.198665 -3.039867\n",
       "collision_4        -170.846069  -83.236270  -8.576483 -170.846069 -3.590721"
      ]
     },
     "execution_count": 16,
     "metadata": {},
     "output_type": "execute_result"
    }
   ],
   "source": [
    "results_reward.head()"
   ]
  },
  {
   "cell_type": "code",
   "execution_count": 17,
   "metadata": {
    "scrolled": false
   },
   "outputs": [
    {
     "data": {
      "text/html": [
       "<div>\n",
       "<style>\n",
       "    .dataframe thead tr:only-child th {\n",
       "        text-align: right;\n",
       "    }\n",
       "\n",
       "    .dataframe thead th {\n",
       "        text-align: left;\n",
       "    }\n",
       "\n",
       "    .dataframe tbody tr th {\n",
       "        vertical-align: top;\n",
       "    }\n",
       "</style>\n",
       "<table border=\"1\" class=\"dataframe\">\n",
       "  <thead>\n",
       "    <tr style=\"text-align: right;\">\n",
       "      <th></th>\n",
       "      <th>without maneuvers</th>\n",
       "      <th>CE</th>\n",
       "      <th>ES</th>\n",
       "      <th>MCTS</th>\n",
       "      <th>baseline</th>\n",
       "    </tr>\n",
       "  </thead>\n",
       "  <tbody>\n",
       "    <tr>\n",
       "      <th>collision_0</th>\n",
       "      <td>0.010226</td>\n",
       "      <td>0.000000</td>\n",
       "      <td>0.000000e+00</td>\n",
       "      <td>0.002477</td>\n",
       "      <td>0.000129</td>\n",
       "    </tr>\n",
       "    <tr>\n",
       "      <th>collision_1</th>\n",
       "      <td>0.000816</td>\n",
       "      <td>0.000168</td>\n",
       "      <td>0.000000e+00</td>\n",
       "      <td>0.000816</td>\n",
       "      <td>0.000271</td>\n",
       "    </tr>\n",
       "    <tr>\n",
       "      <th>collision_2</th>\n",
       "      <td>0.031935</td>\n",
       "      <td>0.014918</td>\n",
       "      <td>4.390377e-09</td>\n",
       "      <td>0.011799</td>\n",
       "      <td>0.000342</td>\n",
       "    </tr>\n",
       "    <tr>\n",
       "      <th>collision_3</th>\n",
       "      <td>0.003114</td>\n",
       "      <td>0.000860</td>\n",
       "      <td>0.000000e+00</td>\n",
       "      <td>0.002900</td>\n",
       "      <td>0.000083</td>\n",
       "    </tr>\n",
       "    <tr>\n",
       "      <th>collision_4</th>\n",
       "      <td>0.017985</td>\n",
       "      <td>0.008676</td>\n",
       "      <td>6.959607e-04</td>\n",
       "      <td>0.017985</td>\n",
       "      <td>0.000091</td>\n",
       "    </tr>\n",
       "  </tbody>\n",
       "</table>\n",
       "</div>"
      ],
      "text/plain": [
       "             without maneuvers        CE            ES      MCTS  baseline\n",
       "collision_0           0.010226  0.000000  0.000000e+00  0.002477  0.000129\n",
       "collision_1           0.000816  0.000168  0.000000e+00  0.000816  0.000271\n",
       "collision_2           0.031935  0.014918  4.390377e-09  0.011799  0.000342\n",
       "collision_3           0.003114  0.000860  0.000000e+00  0.002900  0.000083\n",
       "collision_4           0.017985  0.008676  6.959607e-04  0.017985  0.000091"
      ]
     },
     "execution_count": 17,
     "metadata": {},
     "output_type": "execute_result"
    }
   ],
   "source": [
    "results_probability.head()"
   ]
  },
  {
   "cell_type": "code",
   "execution_count": 18,
   "metadata": {},
   "outputs": [
    {
     "data": {
      "text/html": [
       "<div>\n",
       "<style>\n",
       "    .dataframe thead tr:only-child th {\n",
       "        text-align: right;\n",
       "    }\n",
       "\n",
       "    .dataframe thead th {\n",
       "        text-align: left;\n",
       "    }\n",
       "\n",
       "    .dataframe tbody tr th {\n",
       "        vertical-align: top;\n",
       "    }\n",
       "</style>\n",
       "<table border=\"1\" class=\"dataframe\">\n",
       "  <thead>\n",
       "    <tr style=\"text-align: right;\">\n",
       "      <th></th>\n",
       "      <th>without maneuvers</th>\n",
       "      <th>CE</th>\n",
       "      <th>ES</th>\n",
       "      <th>MCTS</th>\n",
       "      <th>baseline</th>\n",
       "    </tr>\n",
       "  </thead>\n",
       "  <tbody>\n",
       "    <tr>\n",
       "      <th>collision_0</th>\n",
       "      <td>0.0</td>\n",
       "      <td>0.344011</td>\n",
       "      <td>3.386798</td>\n",
       "      <td>0.243528</td>\n",
       "      <td>0.050505</td>\n",
       "    </tr>\n",
       "    <tr>\n",
       "      <th>collision_1</th>\n",
       "      <td>0.0</td>\n",
       "      <td>0.532242</td>\n",
       "      <td>4.620355</td>\n",
       "      <td>0.000000</td>\n",
       "      <td>0.050505</td>\n",
       "    </tr>\n",
       "    <tr>\n",
       "      <th>collision_2</th>\n",
       "      <td>0.0</td>\n",
       "      <td>0.463966</td>\n",
       "      <td>3.610272</td>\n",
       "      <td>0.129861</td>\n",
       "      <td>0.252525</td>\n",
       "    </tr>\n",
       "    <tr>\n",
       "      <th>collision_3</th>\n",
       "      <td>0.0</td>\n",
       "      <td>0.560499</td>\n",
       "      <td>5.925263</td>\n",
       "      <td>0.020978</td>\n",
       "      <td>0.151515</td>\n",
       "    </tr>\n",
       "    <tr>\n",
       "      <th>collision_4</th>\n",
       "      <td>0.0</td>\n",
       "      <td>0.350619</td>\n",
       "      <td>1.715002</td>\n",
       "      <td>0.000000</td>\n",
       "      <td>0.151515</td>\n",
       "    </tr>\n",
       "  </tbody>\n",
       "</table>\n",
       "</div>"
      ],
      "text/plain": [
       "             without maneuvers        CE        ES      MCTS  baseline\n",
       "collision_0                0.0  0.344011  3.386798  0.243528  0.050505\n",
       "collision_1                0.0  0.532242  4.620355  0.000000  0.050505\n",
       "collision_2                0.0  0.463966  3.610272  0.129861  0.252525\n",
       "collision_3                0.0  0.560499  5.925263  0.020978  0.151515\n",
       "collision_4                0.0  0.350619  1.715002  0.000000  0.151515"
      ]
     },
     "execution_count": 18,
     "metadata": {},
     "output_type": "execute_result"
    }
   ],
   "source": [
    "results_fuel_cons.head()"
   ]
  },
  {
   "cell_type": "code",
   "execution_count": 19,
   "metadata": {},
   "outputs": [
    {
     "data": {
      "text/html": [
       "<div>\n",
       "<style>\n",
       "    .dataframe thead tr:only-child th {\n",
       "        text-align: right;\n",
       "    }\n",
       "\n",
       "    .dataframe thead th {\n",
       "        text-align: left;\n",
       "    }\n",
       "\n",
       "    .dataframe tbody tr th {\n",
       "        vertical-align: top;\n",
       "    }\n",
       "</style>\n",
       "<table border=\"1\" class=\"dataframe\">\n",
       "  <thead>\n",
       "    <tr style=\"text-align: right;\">\n",
       "      <th></th>\n",
       "      <th>without maneuvers</th>\n",
       "      <th>CE</th>\n",
       "      <th>ES</th>\n",
       "      <th>MCTS</th>\n",
       "      <th>baseline</th>\n",
       "    </tr>\n",
       "  </thead>\n",
       "  <tbody>\n",
       "    <tr>\n",
       "      <th>collision_0</th>\n",
       "      <td>0.0</td>\n",
       "      <td>3.746730</td>\n",
       "      <td>52.462434</td>\n",
       "      <td>1.856463</td>\n",
       "      <td>1.084418</td>\n",
       "    </tr>\n",
       "    <tr>\n",
       "      <th>collision_1</th>\n",
       "      <td>0.0</td>\n",
       "      <td>1.658414</td>\n",
       "      <td>39.823139</td>\n",
       "      <td>0.000000</td>\n",
       "      <td>1.132596</td>\n",
       "    </tr>\n",
       "    <tr>\n",
       "      <th>collision_2</th>\n",
       "      <td>0.0</td>\n",
       "      <td>5.172324</td>\n",
       "      <td>17.820122</td>\n",
       "      <td>0.661201</td>\n",
       "      <td>4.792154</td>\n",
       "    </tr>\n",
       "    <tr>\n",
       "      <th>collision_3</th>\n",
       "      <td>0.0</td>\n",
       "      <td>2.235847</td>\n",
       "      <td>4.489938</td>\n",
       "      <td>0.179263</td>\n",
       "      <td>2.888247</td>\n",
       "    </tr>\n",
       "    <tr>\n",
       "      <th>collision_4</th>\n",
       "      <td>0.0</td>\n",
       "      <td>5.125747</td>\n",
       "      <td>6.813665</td>\n",
       "      <td>0.000000</td>\n",
       "      <td>3.439093</td>\n",
       "    </tr>\n",
       "  </tbody>\n",
       "</table>\n",
       "</div>"
      ],
      "text/plain": [
       "             without maneuvers        CE         ES      MCTS  baseline\n",
       "collision_0                0.0  3.746730  52.462434  1.856463  1.084418\n",
       "collision_1                0.0  1.658414  39.823139  0.000000  1.132596\n",
       "collision_2                0.0  5.172324  17.820122  0.661201  4.792154\n",
       "collision_3                0.0  2.235847   4.489938  0.179263  2.888247\n",
       "collision_4                0.0  5.125747   6.813665  0.000000  3.439093"
      ]
     },
     "execution_count": 19,
     "metadata": {},
     "output_type": "execute_result"
    }
   ],
   "source": [
    "results_deviation.head()"
   ]
  },
  {
   "cell_type": "code",
   "execution_count": 30,
   "metadata": {},
   "outputs": [
    {
     "data": {
      "text/html": [
       "<div>\n",
       "<style>\n",
       "    .dataframe thead tr:only-child th {\n",
       "        text-align: right;\n",
       "    }\n",
       "\n",
       "    .dataframe thead th {\n",
       "        text-align: left;\n",
       "    }\n",
       "\n",
       "    .dataframe tbody tr th {\n",
       "        vertical-align: top;\n",
       "    }\n",
       "</style>\n",
       "<table border=\"1\" class=\"dataframe\">\n",
       "  <thead>\n",
       "    <tr style=\"text-align: right;\">\n",
       "      <th></th>\n",
       "      <th>without maneuvers</th>\n",
       "      <th>CE</th>\n",
       "      <th>ES</th>\n",
       "      <th>MCTS</th>\n",
       "      <th>baseline</th>\n",
       "    </tr>\n",
       "  </thead>\n",
       "  <tbody>\n",
       "    <tr>\n",
       "      <th>collision_1</th>\n",
       "      <td>-0.159315</td>\n",
       "      <td>-2.190899</td>\n",
       "      <td>-44.443494</td>\n",
       "      <td>-0.159315</td>\n",
       "      <td>-1.183781</td>\n",
       "    </tr>\n",
       "    <tr>\n",
       "      <th>collision_5</th>\n",
       "      <td>-0.000067</td>\n",
       "      <td>-3.150560</td>\n",
       "      <td>-9.543171</td>\n",
       "      <td>-0.000067</td>\n",
       "      <td>-1.054749</td>\n",
       "    </tr>\n",
       "    <tr>\n",
       "      <th>collision_6</th>\n",
       "      <td>-1.190747</td>\n",
       "      <td>-1.093645</td>\n",
       "      <td>-11.564870</td>\n",
       "      <td>-1.190747</td>\n",
       "      <td>-1.128734</td>\n",
       "    </tr>\n",
       "    <tr>\n",
       "      <th>collision_9</th>\n",
       "      <td>-287.341829</td>\n",
       "      <td>-6.580076</td>\n",
       "      <td>-12.323495</td>\n",
       "      <td>-3.003584</td>\n",
       "      <td>-10.329886</td>\n",
       "    </tr>\n",
       "  </tbody>\n",
       "</table>\n",
       "</div>"
      ],
      "text/plain": [
       "             without maneuvers        CE         ES      MCTS   baseline\n",
       "collision_1          -0.159315 -2.190899 -44.443494 -0.159315  -1.183781\n",
       "collision_5          -0.000067 -3.150560  -9.543171 -0.000067  -1.054749\n",
       "collision_6          -1.190747 -1.093645 -11.564870 -1.190747  -1.128734\n",
       "collision_9        -287.341829 -6.580076 -12.323495 -3.003584 -10.329886"
      ]
     },
     "execution_count": 30,
     "metadata": {},
     "output_type": "execute_result"
    }
   ],
   "source": [
    "# where RL is better than baseline\n",
    "results_reward[\n",
    "    (results_reward[\"baseline\"] < results_reward[\"CE\"])\n",
    "    | (results_reward[\"baseline\"] < results_reward[\"ES\"])\n",
    "    | (results_reward[\"baseline\"] < results_reward[\"MCTS\"])\n",
    "]"
   ]
  },
  {
   "cell_type": "code",
   "execution_count": null,
   "metadata": {
    "collapsed": true
   },
   "outputs": [],
   "source": []
  }
 ],
 "metadata": {
  "kernelspec": {
   "display_name": "py3.6",
   "language": "python",
   "name": "py3.6"
  },
  "language_info": {
   "codemirror_mode": {
    "name": "ipython",
    "version": 3
   },
   "file_extension": ".py",
   "mimetype": "text/x-python",
   "name": "python",
   "nbconvert_exporter": "python",
   "pygments_lexer": "ipython3",
   "version": "3.6.5"
  }
 },
 "nbformat": 4,
 "nbformat_minor": 2
}
