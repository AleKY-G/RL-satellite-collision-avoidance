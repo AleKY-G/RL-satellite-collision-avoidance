{
 "cells": [
  {
   "cell_type": "markdown",
   "metadata": {},
   "source": [
    "## Pykep installing\n",
    "\n",
    "Instructions here: https://esa.github.io/pykep/installation.html <br> Or, for python3 only: ```pip3 install pykep``` <br>\n",
    "\n",
    "Docs: https://esa.github.io/pykep/documentation/index.html"
   ]
  },
  {
   "cell_type": "code",
   "execution_count": 1,
   "metadata": {},
   "outputs": [
    {
     "name": "stdout",
     "output_type": "stream",
     "text": [
      "Populating the interactive namespace from numpy and matplotlib\n"
     ]
    }
   ],
   "source": [
    "import time\n",
    "import matplotlib.pyplot as plt\n",
    "import pykep as pk\n",
    "from pykep.orbit_plots import plot_planet, plot_lambert\n",
    "from pykep.planet import jpl_lp, tle\n",
    "from pykep import lambert_problem, DAY2SEC, MU_SUN, epoch\n",
    "import numpy as np\n",
    "%matplotlib inline\n",
    "%pylab inline"
   ]
  },
  {
   "cell_type": "markdown",
   "metadata": {},
   "source": [
    "##  Two-line element set\n",
    "\n",
    "A two-line element set (TLE) is a data format encoding a list of orbital elements of an Earth-orbiting object for a given point in time, the epoch. Using suitable prediction formula, the state (position and velocity) at any point in the past or future can be estimated to some accuracy.\n",
    "\n",
    "#### An example TLE for the International Space Station:\n",
    "\n",
    "ISS (ZARYA)\n",
    "\n",
    "1 25544U 98067A   08264.51782528 -.00002182  00000-0 -11606-4 0  2927\n",
    "\n",
    "2 25544  51.6416 247.4627 0006703 130.5360 325.0288 15.72125391563537\n",
    "\n",
    "\n",
    "\n",
    "Try to create satellite. "
   ]
  },
  {
   "cell_type": "code",
   "execution_count": 2,
   "metadata": {},
   "outputs": [
    {
     "name": "stdout",
     "output_type": "stream",
     "text": [
      "Help on class tle in module pykep.planet._planet:\n",
      "\n",
      "class tle(_base)\n",
      " |  An Earth satellite defined from the TLE format, derives from :py:class:`pykep.planet._base`\n",
      " |  \n",
      " |  Method resolution order:\n",
      " |      tle\n",
      " |      _base\n",
      " |      Boost.Python.instance\n",
      " |      builtins.object\n",
      " |  \n",
      " |  Methods defined here:\n",
      " |  \n",
      " |  __copy__(...)\n",
      " |  \n",
      " |  __deepcopy__(...)\n",
      " |  \n",
      " |  __getinitargs__(...)\n",
      " |  \n",
      " |  __getstate__(...)\n",
      " |  \n",
      " |  __init__(...)\n",
      " |      pykep.planet.tle(line1, line2)\n",
      " |      \n",
      " |      - line1: string containing the first line of a TLE (69 well formatted chars)\n",
      " |      - line2: string containing the second line of a TLE (69 well formatted chars)\n",
      " |      \n",
      " |      Example::\n",
      " |      \n",
      " |        line1 = '1 23177U 94040C   06175.45752052  .00000386  00000-0  76590-3 0    95'\n",
      " |        line2 = '2 23177   7.0496 179.8238 7258491 296.0482   8.3061  2.25906668 97438'\n",
      " |        arianne = planet.tle(line1, line2)\n",
      " |  \n",
      " |  __reduce__ = <unnamed Boost.Python function>(...)\n",
      " |  \n",
      " |  __setstate__(...)\n",
      " |  \n",
      " |  set_epoch(...)\n",
      " |      PyKep.planet.tle.set_epoch(year, day)\n",
      " |      \n",
      " |      - year: unsigned integer specifying the full 4 digit year\n",
      " |      - day:  double representing the fractional day as in TLE format.\n",
      " |      \n",
      " |      Set the epoch of the TLE to the given date without changing any other elements.\n",
      " |      Used to work around the Y2056 bug in TLE definition\n",
      " |  \n",
      " |  ----------------------------------------------------------------------\n",
      " |  Data descriptors defined here:\n",
      " |  \n",
      " |  line1\n",
      " |      Get 1st line of original TLE\n",
      " |  \n",
      " |  line2\n",
      " |      Get 2nd line of original TLE\n",
      " |  \n",
      " |  ref_mjd2000\n",
      " |      Get reference epoch (possibly modified from what is in line 1 of TLE)\n",
      " |  \n",
      " |  ----------------------------------------------------------------------\n",
      " |  Data and other attributes defined here:\n",
      " |  \n",
      " |  __getstate_manages_dict__ = True\n",
      " |  \n",
      " |  __instance_size__ = 1016\n",
      " |  \n",
      " |  __safe_for_unpickling__ = True\n",
      " |  \n",
      " |  ----------------------------------------------------------------------\n",
      " |  Methods inherited from _base:\n",
      " |  \n",
      " |  __repr__(...)\n",
      " |  \n",
      " |  compute_period(...)\n",
      " |      The planet orbital period in [sec]\n",
      " |      \n",
      " |      Example::\n",
      " |      \n",
      " |        T = earth.compute_period()\n",
      " |        T = earth.compute_period(epoch(2345.3, 'mjd2000'))\n",
      " |  \n",
      " |  eph(...)\n",
      " |      pykep.planet._base.eph(when)\n",
      " |      \n",
      " |      - when: a :py:class:`pykep.epoch` indicating the epoch at which the ephemerides are needed, it can also be a double in which case its interpreted as a mjd2000\n",
      " |      \n",
      " |      Retuns a tuple containing the planet position and velocity in SI units\n",
      " |      \n",
      " |      .. note::\n",
      " |      \n",
      " |         This is a pure virtual method and must be reimplemented in the derived class\n",
      " |      \n",
      " |      Example::\n",
      " |      \n",
      " |        r,v = earth.eph(epoch(5433), 'mjd2000')\n",
      " |        r,v = earth.eph(5433)\n",
      " |  \n",
      " |  human_readable_extra(...)\n",
      " |      pykep.planet._base.human_readable_extra()\n",
      " |      \n",
      " |      Retuns a string with extra information on the problem.\n",
      " |      \n",
      " |      .. note::\n",
      " |      \n",
      " |         This is a virtual method and can be reimplemented in the derived class. In which case __repr__ will append its returned value\n",
      " |  \n",
      " |  osculating_elements(...)\n",
      " |      Retruns a tuple containing the six osculating keplerian elements a,e,i,W,w,M at the reference epoch\n",
      " |      (SI units used). If no epoch is passed 0. is assumed\n",
      " |      \n",
      " |      Example::\n",
      " |      \n",
      " |        elem = earth.osculating_elements()\n",
      " |        elem = earth.osculating_elements(epoch(2345.3, 'mjd2000'))\n",
      " |  \n",
      " |  ----------------------------------------------------------------------\n",
      " |  Data descriptors inherited from _base:\n",
      " |  \n",
      " |  mu_central_body\n",
      " |      The central body gravity parameter in [m^3/s^2]\n",
      " |      \n",
      " |      Example::\n",
      " |      \n",
      " |        mu = earth.mu_central_body\n",
      " |  \n",
      " |  mu_self\n",
      " |      The body gravity parameter in [m^3/s^2]\n",
      " |      \n",
      " |      Example::\n",
      " |      \n",
      " |        mu_pla = earth.mu_self\n",
      " |  \n",
      " |  name\n",
      " |      The body Name\n",
      " |      \n",
      " |      Example::\n",
      " |      \n",
      " |        name = earth.name\n",
      " |  \n",
      " |  radius\n",
      " |      The planet radius in [m]\n",
      " |      \n",
      " |      Example::\n",
      " |      \n",
      " |        R = earth.radius\n",
      " |  \n",
      " |  safe_radius\n",
      " |      The body safe radius in [m](distance at which it is safe for spacecraft to fly-by)\n",
      " |      \n",
      " |      Example::\n",
      " |      \n",
      " |        Rs = earth.safe_radius\n",
      " |        earth.safe_radius = 1.05\n",
      " |  \n",
      " |  ----------------------------------------------------------------------\n",
      " |  Methods inherited from Boost.Python.instance:\n",
      " |  \n",
      " |  __new__(*args, **kwargs) from Boost.Python.class\n",
      " |      Create and return a new object.  See help(type) for accurate signature.\n",
      " |  \n",
      " |  ----------------------------------------------------------------------\n",
      " |  Data descriptors inherited from Boost.Python.instance:\n",
      " |  \n",
      " |  __dict__\n",
      " |  \n",
      " |  __weakref__\n",
      "\n"
     ]
    }
   ],
   "source": [
    "help(tle)"
   ]
  },
  {
   "cell_type": "code",
   "execution_count": 3,
   "metadata": {},
   "outputs": [
    {
     "data": {
      "image/png": "[encoded data removed]",
      "text/plain": [
       "<matplotlib.figure.Figure at 0x7f624e0cf518>"
      ]
     },
     "metadata": {},
     "output_type": "display_data"
    }
   ],
   "source": [
    "fig = plt.figure()\n",
    "ax = fig.gca(projection='3d')\n",
    "\n",
    "t = epoch(640)\n",
    "\n",
    "earth = jpl_lp('earth')\n",
    "plot_planet(earth, t0=t, ax=ax)\n",
    "\n",
    "plt.show()"
   ]
  },
  {
   "cell_type": "code",
   "execution_count": 4,
   "metadata": {},
   "outputs": [
    {
     "data": {
      "image/png": "[encoded data removed]",
      "text/plain": [
       "<matplotlib.figure.Figure at 0x7f624bff1710>"
      ]
     },
     "metadata": {},
     "output_type": "display_data"
    }
   ],
   "source": [
    "fig = plt.figure()\n",
    "ax = fig.gca(projection='3d')\n",
    "\n",
    "t = epoch(640)\n",
    "\n",
    "iss1 = '1 25544U 98067A   17328.30743056  .00003472  00000-0  59488-4 0  9993'\n",
    "iss2 = '2 25544  51.6407 320.0980 0004356 149.0109  38.9204 15.54217487 86654'\n",
    "ISS = tle(iss1, iss2)\n",
    "\n",
    "plot_planet(ISS, t0=t, ax=ax, color=\"g\")\n",
    "\n",
    "plt.show()"
   ]
  },
  {
   "cell_type": "code",
   "execution_count": 5,
   "metadata": {},
   "outputs": [
    {
     "data": {
      "image/png": "[encoded data removed]",
      "text/plain": [
       "<matplotlib.figure.Figure at 0x7f624bf54eb8>"
      ]
     },
     "metadata": {},
     "output_type": "display_data"
    }
   ],
   "source": [
    "fig = plt.figure()\n",
    "ax = fig.gca(projection='3d')\n",
    "\n",
    "t = epoch(640)\n",
    "\n",
    "line1 = '1 23177U 94040C   06175.45752052  .00000386  00000-0  76590-3 0    95'\n",
    "line2 = '2 23177   7.0496 179.8238 7258491 296.0482   8.3061  2.25906668 97438'\n",
    "arianne = tle(line1, line2)\n",
    "\n",
    "plot_planet(arianne, t0=t, ax=ax, color=\"r\")\n",
    "\n",
    "plt.show()"
   ]
  },
  {
   "cell_type": "markdown",
   "metadata": {},
   "source": [
    "### We need:\n",
    "    - convert (position, velocity, time) to TLE to initiate SpaceObject.\n",
    "    - to be able to convert TLE to (x, y, z) - can use .eph(epoch) method\n",
    "    - to calculate the position of satellite at some epoch. - also use eph(epoch)\n",
    "    - add this to simulator, update SpaceObject class.\n",
    "    "
   ]
  },
  {
   "cell_type": "code",
   "execution_count": 6,
   "metadata": {
    "scrolled": true
   },
   "outputs": [
    {
     "name": "stdout",
     "output_type": "stream",
     "text": [
      "Help on method eph:\n",
      "\n",
      "eph(...) method of pykep.planet._planet.tle instance\n",
      "    pykep.planet._base.eph(when)\n",
      "    \n",
      "    - when: a :py:class:`pykep.epoch` indicating the epoch at which the ephemerides are needed, it can also be a double in which case its interpreted as a mjd2000\n",
      "    \n",
      "    Retuns a tuple containing the planet position and velocity in SI units\n",
      "    \n",
      "    .. note::\n",
      "    \n",
      "       This is a pure virtual method and must be reimplemented in the derived class\n",
      "    \n",
      "    Example::\n",
      "    \n",
      "      r,v = earth.eph(epoch(5433), 'mjd2000')\n",
      "      r,v = earth.eph(5433)\n",
      "\n"
     ]
    }
   ],
   "source": [
    "help(ISS.eph)"
   ]
  },
  {
   "cell_type": "code",
   "execution_count": 7,
   "metadata": {},
   "outputs": [
    {
     "name": "stdout",
     "output_type": "stream",
     "text": [
      "ISS position: x - -1246420.70, y - 5863791.87, z - 3159016.80.      \n",
      "ISS velocity: Vx - -5796.63, Vy - 1380.96, Vz - -4836.30      \n",
      "Epoch: 2017-Nov-27 00:00:00\n"
     ]
    }
   ],
   "source": [
    "eph = pk.epoch(6540)\n",
    "pos, v = ISS.eph(eph)\n",
    "print(\"ISS position: x - {:0.2f}, y - {:0.2f}, z - {:0.2f}.\\\n",
    "      \\nISS velocity: Vx - {:0.2f}, Vy - {:0.2f}, Vz - {:0.2f}\\\n",
    "      \\nEpoch: {}\".format(\n",
    "                    pos[0], pos[1], pos[2], \n",
    "                    v[0], v[1], v[2], \n",
    "                    eph)\n",
    "     )"
   ]
  },
  {
   "cell_type": "code",
   "execution_count": 8,
   "metadata": {},
   "outputs": [
    {
     "name": "stdout",
     "output_type": "stream",
     "text": [
      "Help on class epoch in module pykep.core._core:\n",
      "\n",
      "class epoch(Boost.Python.instance)\n",
      " |  Represents a precise point in time. The boost::posix_time_ptime classes are used to handle the conversion to and from string\n",
      " |  \n",
      " |  Method resolution order:\n",
      " |      epoch\n",
      " |      Boost.Python.instance\n",
      " |      builtins.object\n",
      " |  \n",
      " |  Methods defined here:\n",
      " |  \n",
      " |  __getinitargs__(...)\n",
      " |  \n",
      " |  __getstate__(...)\n",
      " |  \n",
      " |  __init__ = _epoch_ctor(self, julian_date=0, julian_date_type='mjd2000')\n",
      " |      pykep.epoch(julian_date=0, julian_date_type=\"mjd2000\")\n",
      " |      \n",
      " |      - julian_date: a julian date, defaults to 0\n",
      " |      - julian_date_type: julian date type, one of \"jd\", \"mjd\" and \"mjd2000\", defaults to \"mjd2000\"\n",
      " |      \n",
      " |      Examples::\n",
      " |      \n",
      " |        e1 = epoch(0)\n",
      " |        e1 = epoch(0,\"mjd2000\")\n",
      " |        e2 = epoch(54333, \"mjd\")\n",
      " |  \n",
      " |  __reduce__ = <unnamed Boost.Python function>(...)\n",
      " |  \n",
      " |  __repr__(...)\n",
      " |  \n",
      " |  __setstate__(...)\n",
      " |  \n",
      " |  ----------------------------------------------------------------------\n",
      " |  Data descriptors defined here:\n",
      " |  \n",
      " |  jd\n",
      " |      Returns the Julian Date\n",
      " |      \n",
      " |      Example::\n",
      " |      \n",
      " |        jd = e.jd\n",
      " |  \n",
      " |  mjd\n",
      " |      Returns the Modified Julian Date\n",
      " |      \n",
      " |      Example::\n",
      " |      \n",
      " |        jd = e.mjd\n",
      " |  \n",
      " |  mjd2000\n",
      " |      Returns the Modifeid Julian Date 2000\n",
      " |      \n",
      " |      Example::\n",
      " |      \n",
      " |        jd = e.mjd2000\n",
      " |  \n",
      " |  ----------------------------------------------------------------------\n",
      " |  Data and other attributes defined here:\n",
      " |  \n",
      " |  __getstate_manages_dict__ = True\n",
      " |  \n",
      " |  __instance_size__ = 24\n",
      " |  \n",
      " |  __safe_for_unpickling__ = True\n",
      " |  \n",
      " |  ----------------------------------------------------------------------\n",
      " |  Methods inherited from Boost.Python.instance:\n",
      " |  \n",
      " |  __new__(*args, **kwargs) from Boost.Python.class\n",
      " |      Create and return a new object.  See help(type) for accurate signature.\n",
      " |  \n",
      " |  ----------------------------------------------------------------------\n",
      " |  Data descriptors inherited from Boost.Python.instance:\n",
      " |  \n",
      " |  __dict__\n",
      " |  \n",
      " |  __weakref__\n",
      "\n"
     ]
    }
   ],
   "source": [
    "help(epoch)"
   ]
  },
  {
   "cell_type": "code",
   "execution_count": 9,
   "metadata": {},
   "outputs": [
    {
     "name": "stdout",
     "output_type": "stream",
     "text": [
      "Data: 2017-Nov-27 00:00:00\n",
      "Julian Date: 2458084.5\n",
      "Modified Julian Date58084.0\n",
      "Modifeid Julian Date 2000: 6540.0\n"
     ]
    }
   ],
   "source": [
    "print(\"Data: {}\\nJulian Date: {}\\nModified Julian Date{}\\nModifeid Julian Date 2000: {}\".format(eph, eph.jd, eph.mjd, eph.mjd2000))"
   ]
  },
  {
   "cell_type": "markdown",
   "metadata": {},
   "source": [
    "To create an epoch type from normal date - we can use ***pykep.epoch_from_string()*** or ***pykep.epoch_from_iso_string()***"
   ]
  },
  {
   "cell_type": "code",
   "execution_count": 10,
   "metadata": {},
   "outputs": [
    {
     "name": "stdout",
     "output_type": "stream",
     "text": [
      "Help on built-in function epoch_from_string in module pykep.core._core:\n",
      "\n",
      "epoch_from_string(...)\n",
      "    pykep.epoch_from_string(s)\n",
      "    \n",
      "    - s: string containing a date in the format 'YYYY-MM-DD HH:MM:SS'Returns a :py:class:`pykep.epoch` object constructed from a from a delimited string containing a date.Excess digits in fractional seconds will be dropped. Ex: '1:02:03.123456999' => '1:02:03.123456'.This behavior depends on the precision defined in astro_constant.h used to compile.\n",
      "    \n",
      "    NOTE: The function is based on the corresponding `boost date_time library function <http://www.boost.org/doc/libs/1_44_0/doc/html/date_time/posix_time.html#ptime_from_string>`_\n",
      "    \n",
      "    Example::\n",
      "    \n",
      "      e = pykep.epoch_from_string('2002-01-20 23:59:54.003')\n",
      "\n"
     ]
    }
   ],
   "source": [
    "help(pk.epoch_from_string)"
   ]
  },
  {
   "cell_type": "code",
   "execution_count": 11,
   "metadata": {},
   "outputs": [
    {
     "name": "stdout",
     "output_type": "stream",
     "text": [
      "Current time in YYYY-MM-DD HH:MM:SS format: 2017-11-27 13:22:04\n",
      "2017-Nov-27 13:22:03\n"
     ]
    }
   ],
   "source": [
    "t = time.strftime(\"%Y-%m-%d %T\")\n",
    "print(\"Current time in YYYY-MM-DD HH:MM:SS format: {}\".format(t))\n",
    "curr_eph = pk.epoch_from_string(t)\n",
    "print(curr_eph)"
   ]
  },
  {
   "cell_type": "code",
   "execution_count": 12,
   "metadata": {},
   "outputs": [
    {
     "name": "stdout",
     "output_type": "stream",
     "text": [
      "Help on built-in function epoch_from_iso_string in module pykep.core._core:\n",
      "\n",
      "epoch_from_iso_string(...)\n",
      "    pykep.epoch_from_iso_string(s)\n",
      "    \n",
      "    - s: string containing a date in the iso format 'YYYYMMDDTHHMMSS'Returns a :py:class:`pykep.epoch` object constructed from a from a non delimited iso form string containing a date.\n",
      "    \n",
      "    NOTE: The function is based on the corresponding `boost date_time library function <http://www.boost.org/doc/libs/1_44_0/doc/html/date_time/posix_time.html#ptime_from_string>`_\n",
      "    \n",
      "    Example::\n",
      "    \n",
      "      e = pykep.epoch_from_iso_string('20020120T235954')\n",
      "\n"
     ]
    }
   ],
   "source": [
    "help(pk.epoch_from_iso_string)"
   ]
  },
  {
   "cell_type": "code",
   "execution_count": 13,
   "metadata": {},
   "outputs": [
    {
     "name": "stdout",
     "output_type": "stream",
     "text": [
      "Current time in YYYYMMDDTHHMMSS format: 20171127T132204\n",
      "2017-Nov-27 13:22:03\n"
     ]
    }
   ],
   "source": [
    "t = time.strftime(\"%Y%m%dT%H%M%S\")\n",
    "print(\"Current time in YYYYMMDDTHHMMSS format: {}\".format(t))\n",
    "curr_eph = pk.epoch_from_iso_string(t)\n",
    "print(curr_eph)"
   ]
  },
  {
   "cell_type": "code",
   "execution_count": 14,
   "metadata": {},
   "outputs": [
    {
     "data": {
      "text/plain": [
       "2000-Jan-02 00:00:00"
      ]
     },
     "execution_count": 14,
     "metadata": {},
     "output_type": "execute_result"
    }
   ],
   "source": [
    "pk.epoch(1, \"mjd2000\")"
   ]
  },
  {
   "cell_type": "markdown",
   "metadata": {},
   "source": [
    "\n"
   ]
  },
  {
   "cell_type": "markdown",
   "metadata": {},
   "source": [
    "**Вопросы**:\n",
    "1. Как опредляются у нас параметры x, y, z (отностиельно земли?), и как это соотносится с тем, что возвразает `tle.eph(epoch)`\n",
    "2. Как преобразовать (pos, v, t) в TLE формат. -- **можем использовать не pk.planet.tle, а pk.planet.keplerian**\n",
    "3. "
   ]
  },
  {
   "cell_type": "markdown",
   "metadata": {},
   "source": [
    "### Initiate a satellite with position (cartesian), velocity, epoch."
   ]
  },
  {
   "cell_type": "markdown",
   "metadata": {},
   "source": [
    "ECEF (\"earth-centered, earth-fixed\"), also known as ECR (\"earth-centered rotational\"), is a geographic coordinate system and Cartesian coordinate system, and is sometimes known as a \"conventional terrestrial\" system. It represents positions (in meters) as X, Y, and Z coordinates. The point (0,0,0) is defined as the center of mass of the earth, hence the name \"earth-centered.\" Its axes are aligned with the international reference pole (IRP) and international reference meridian (IRM) that are fixed with respect to the surface of the earth, hence the description \"earth-fixed.\" This term can cause confusion since the earth does not rotate about the z-axis (unlike an inertial system such as ECI), and is therefore alternatively called ECR.\n",
    "\n",
    "The z-axis extends through True north, which does not coincide with the instantaneous earth rotational axis. The slight \"wobbling\" of the rotational axis is known as polar motion. The x-axis intersects the sphere of the earth at 0° latitude (the equator) and 0° longitude (prime meridian in Greenwich). This means that ECEF rotates with the earth, and therefore coordinates of a point fixed on the surface of the earth do not change. Conversion from a WGS84 datum to ECEF can be used as an intermediate step in converting velocities to the north east down coordinate system.\n",
    "\n",
    "<img src=\"https://upload.wikimedia.org/wikipedia/commons/thumb/7/7b/ECEF.svg/1200px-ECEF.svg.png\">\n",
    "\n",
    "\n",
    "https://en.wikipedia.org/wiki/ECEF"
   ]
  },
  {
   "cell_type": "code",
   "execution_count": 15,
   "metadata": {},
   "outputs": [
    {
     "name": "stdout",
     "output_type": "stream",
     "text": [
      "Help on built-in function propagate_lagrangian in module pykep.core._core:\n",
      "\n",
      "propagate_lagrangian(...)\n",
      "    pykep.propagate_lagrangian(r,v,t,mu)\n",
      "    \n",
      "    - r: start position, x,y,z\n",
      "    - v: start velocity, vx,vy,vz\n",
      "    - t: propagation time\n",
      "    - mu: central body gravity constant\n",
      "    \n",
      "    Returns a tuple containing r and v, the final position and velocity after the propagation.\n",
      "    \n",
      "    Example::\n",
      "    \n",
      "      r,v = propagate_lagrangian([1,0,0],[0,1,0],pi/2,1)\n",
      "\n"
     ]
    }
   ],
   "source": [
    "help(pk.propagate_lagrangian)"
   ]
  },
  {
   "cell_type": "code",
   "execution_count": 16,
   "metadata": {},
   "outputs": [
    {
     "name": "stdout",
     "output_type": "stream",
     "text": [
      "(1.1102230246251565e-16, 1.0, 0.0) (-1.0, 1.1102230246251565e-16, 0.0)\n"
     ]
    }
   ],
   "source": [
    "import math\n",
    "r,v = pk.propagate_lagrangian([1,0,0],[0,1,0],math.pi/2,1)\n",
    "print(r, v)"
   ]
  },
  {
   "cell_type": "code",
   "execution_count": 17,
   "metadata": {},
   "outputs": [
    {
     "data": {
      "text/plain": [
       "Lambert's problem:\n",
       "mu = 1\n",
       "r1 = [1, 0, 0]\n",
       "r2 = [0, 1, 0]\n",
       "Time of flight: 7.8539816339745\n",
       "\n",
       "chord = 1.4142135623731\n",
       "semiperimeter = 1.7071067811865\n",
       "lambda = 0.41421356237309\n",
       "non dimensional time of flight = 4.9798223260205\n",
       "\n",
       "Maximum number of revolutions: 1\n",
       "Solutions: \n",
       "0 revs, Iters: 3, x: -0.58644325543794, a: 1.3009812610796\n",
       "\tv1= [0.90230487720848529, 0.64590659483860502, 0] v2= [-0.64590659483860502, -0.90230487720848529, 0]\n",
       "1 revs,  left. Iters: 4, x: -0.11188837995933, a: 0.86437450327173\n",
       "\tv1= [0.4521333366855077, 0.79916800651739373, 0] v2= [-0.79916800651739373, -0.4521333366855077, 0]\n",
       "1 revs, right. Iters: 4, a: 0.38268343236509, a: 1\n",
       "\tv1= [0, 1, 0] v2= [-1, 0, 0]"
      ]
     },
     "execution_count": 17,
     "metadata": {},
     "output_type": "execute_result"
    }
   ],
   "source": [
    "l = pk.lambert_problem([1,0,0],[0,1,0],5 * math.pi / 2. )\n",
    "l"
   ]
  },
  {
   "cell_type": "code",
   "execution_count": 18,
   "metadata": {},
   "outputs": [
    {
     "name": "stdout",
     "output_type": "stream",
     "text": [
      "Help on built-in function ic2eq in module pykep.core._core:\n",
      "\n",
      "ic2eq(...)\n",
      "    pykep.ic2eq(r,v,mu = 1.0, retrogade = False)\n",
      "    \n",
      "    - r: position (cartesian)\n",
      "    - v: velocity (cartesian)\n",
      "    - mu: gravity parameter\n",
      "    \n",
      "    - retrogade: uses the retrograde parameters. Default value is False.\n",
      "    \n",
      "    Returns the modified equinoctial elements a(1-e^2),h,k,p,q,L\n",
      "    L is the true mean longitude\n",
      "    Example:: \n",
      "    \n",
      "      E = ic2eq(r = [1,0,0], v = [0,1,0], mu =1.0)\n",
      "\n"
     ]
    }
   ],
   "source": [
    "E = pk.ic2eq(r = [1,0,0], v = [0,1,0], mu =1.0)\n",
    "help(pk.ic2eq)"
   ]
  },
  {
   "cell_type": "code",
   "execution_count": 19,
   "metadata": {},
   "outputs": [
    {
     "name": "stdout",
     "output_type": "stream",
     "text": [
      "Help on class keplerian in module pykep.planet._planet:\n",
      "\n",
      "class keplerian(_base)\n",
      " |  A planet with Keplerian ephemerides, derives from :py:class:`pykep.planet._base`\n",
      " |  \n",
      " |  Method resolution order:\n",
      " |      keplerian\n",
      " |      _base\n",
      " |      Boost.Python.instance\n",
      " |      builtins.object\n",
      " |  \n",
      " |  Methods defined here:\n",
      " |  \n",
      " |  __copy__(...)\n",
      " |  \n",
      " |  __deepcopy__(...)\n",
      " |  \n",
      " |  __getinitargs__(...)\n",
      " |  \n",
      " |  __getstate__(...)\n",
      " |  \n",
      " |  __init__ = _keplerian_ctor(self, *args)\n",
      " |      pykep.planet.keplerian(when,orbital_elements, mu_central_body, mu_self,radius, safe_radius [, name = 'unknown'])\n",
      " |      \n",
      " |      pykep.planet.keplerian(when,r,v, mu_central_body, mu_self,radius, safe_radius [, name = 'unknown'])\n",
      " |      \n",
      " |      - when: a :py:class:`pykep.epoch` indicating the orbital elements reference epoch\n",
      " |      - orbital_elements: a sequence of six containing a,e,i,W,w,M (SI units, i.e. meters and radiants)\n",
      " |      - r,v: position and velocity of an object at when (SI units)\n",
      " |      - mu_central_body: gravity parameter of the central body (SI units, i.e. m^2/s^3)\n",
      " |      - mu_self: gravity parameter of the planet (SI units, i.e. m^2/s^3)\n",
      " |      - radius: body radius (SI units, i.e. meters)\n",
      " |      - safe_radius: mimimual radius that is safe during a fly-by of the planet (SI units, i.e. m)\n",
      " |      - name: body name\n",
      " |      \n",
      " |      .. note::\n",
      " |      \n",
      " |         All classes having Keplerian ephemerides as :py:class:`pykep.planet.mpcorb` inherit from this (c++) class\n",
      " |      \n",
      " |      Example::\n",
      " |      \n",
      " |        earth = planet(epoch(54000,\"mjd\"),(9.99e-01 * AU, 1.67e-02, 8.85e-04 * DEG2RAD, 1.75e+02 * DEG2RAD, 2.87e+02 * DEG2RAD, 2.57e+02 * DEG2RAD), MU_SUN, 398600e9, 6378000, 6900000,  'Earth')\"\n",
      " |  \n",
      " |  __reduce__ = <unnamed Boost.Python function>(...)\n",
      " |  \n",
      " |  __setstate__(...)\n",
      " |  \n",
      " |  ----------------------------------------------------------------------\n",
      " |  Data descriptors defined here:\n",
      " |  \n",
      " |  orbital_elements\n",
      " |      The keplerian elements of the planet\n",
      " |      \n",
      " |      Example::\n",
      " |      \n",
      " |        el = earth.orbital_elements\n",
      " |  \n",
      " |  ref_epoch\n",
      " |      The reference epoch at which the elements are given\n",
      " |      \n",
      " |      Example::\n",
      " |      \n",
      " |        el = earth.ref_epoch\n",
      " |  \n",
      " |  ref_mjd2000\n",
      " |      The reference epoch at which the elements are given\n",
      " |      \n",
      " |      Example::\n",
      " |      \n",
      " |        el = earth.ref_mjd2000\n",
      " |  \n",
      " |  ----------------------------------------------------------------------\n",
      " |  Data and other attributes defined here:\n",
      " |  \n",
      " |  __getstate_manages_dict__ = True\n",
      " |  \n",
      " |  __instance_size__ = 176\n",
      " |  \n",
      " |  __safe_for_unpickling__ = True\n",
      " |  \n",
      " |  ----------------------------------------------------------------------\n",
      " |  Methods inherited from _base:\n",
      " |  \n",
      " |  __repr__(...)\n",
      " |  \n",
      " |  compute_period(...)\n",
      " |      The planet orbital period in [sec]\n",
      " |      \n",
      " |      Example::\n",
      " |      \n",
      " |        T = earth.compute_period()\n",
      " |        T = earth.compute_period(epoch(2345.3, 'mjd2000'))\n",
      " |  \n",
      " |  eph(...)\n",
      " |      pykep.planet._base.eph(when)\n",
      " |      \n",
      " |      - when: a :py:class:`pykep.epoch` indicating the epoch at which the ephemerides are needed, it can also be a double in which case its interpreted as a mjd2000\n",
      " |      \n",
      " |      Retuns a tuple containing the planet position and velocity in SI units\n",
      " |      \n",
      " |      .. note::\n",
      " |      \n",
      " |         This is a pure virtual method and must be reimplemented in the derived class\n",
      " |      \n",
      " |      Example::\n",
      " |      \n",
      " |        r,v = earth.eph(epoch(5433), 'mjd2000')\n",
      " |        r,v = earth.eph(5433)\n",
      " |  \n",
      " |  human_readable_extra(...)\n",
      " |      pykep.planet._base.human_readable_extra()\n",
      " |      \n",
      " |      Retuns a string with extra information on the problem.\n",
      " |      \n",
      " |      .. note::\n",
      " |      \n",
      " |         This is a virtual method and can be reimplemented in the derived class. In which case __repr__ will append its returned value\n",
      " |  \n",
      " |  osculating_elements(...)\n",
      " |      Retruns a tuple containing the six osculating keplerian elements a,e,i,W,w,M at the reference epoch\n",
      " |      (SI units used). If no epoch is passed 0. is assumed\n",
      " |      \n",
      " |      Example::\n",
      " |      \n",
      " |        elem = earth.osculating_elements()\n",
      " |        elem = earth.osculating_elements(epoch(2345.3, 'mjd2000'))\n",
      " |  \n",
      " |  ----------------------------------------------------------------------\n",
      " |  Data descriptors inherited from _base:\n",
      " |  \n",
      " |  mu_central_body\n",
      " |      The central body gravity parameter in [m^3/s^2]\n",
      " |      \n",
      " |      Example::\n",
      " |      \n",
      " |        mu = earth.mu_central_body\n",
      " |  \n",
      " |  mu_self\n",
      " |      The body gravity parameter in [m^3/s^2]\n",
      " |      \n",
      " |      Example::\n",
      " |      \n",
      " |        mu_pla = earth.mu_self\n",
      " |  \n",
      " |  name\n",
      " |      The body Name\n",
      " |      \n",
      " |      Example::\n",
      " |      \n",
      " |        name = earth.name\n",
      " |  \n",
      " |  radius\n",
      " |      The planet radius in [m]\n",
      " |      \n",
      " |      Example::\n",
      " |      \n",
      " |        R = earth.radius\n",
      " |  \n",
      " |  safe_radius\n",
      " |      The body safe radius in [m](distance at which it is safe for spacecraft to fly-by)\n",
      " |      \n",
      " |      Example::\n",
      " |      \n",
      " |        Rs = earth.safe_radius\n",
      " |        earth.safe_radius = 1.05\n",
      " |  \n",
      " |  ----------------------------------------------------------------------\n",
      " |  Methods inherited from Boost.Python.instance:\n",
      " |  \n",
      " |  __new__(*args, **kwargs) from Boost.Python.class\n",
      " |      Create and return a new object.  See help(type) for accurate signature.\n",
      " |  \n",
      " |  ----------------------------------------------------------------------\n",
      " |  Data descriptors inherited from Boost.Python.instance:\n",
      " |  \n",
      " |  __dict__\n",
      " |  \n",
      " |  __weakref__\n",
      "\n"
     ]
    }
   ],
   "source": [
    "help(pk.planet.keplerian)"
   ]
  },
  {
   "cell_type": "code",
   "execution_count": 20,
   "metadata": {},
   "outputs": [],
   "source": [
    "t = 6541\n",
    "pos = [1,0,0]\n",
    "v = [0,1,0]\n",
    "mu =1.0\n",
    "eph = pk.epoch(t, \"mjd2000\")\n",
    "E = pk.ic2eq(r = [1,0,0], v = [0,1,0], mu =1.0)\n",
    "# initiate with orbital elements\n",
    "sat = pk.planet.keplerian(eph, E)\n",
    "# initiate with pos and v \n",
    "# s2 = pk.planet.keplerian(eph, r, v, mu, mu, mu) - not working!"
   ]
  },
  {
   "cell_type": "code",
   "execution_count": 21,
   "metadata": {},
   "outputs": [
    {
     "data": {
      "text/plain": [
       "Planet Name: Unknown\n",
       "Own gravity parameter: 0.10000000000000001\n",
       "Central body gravity parameter: 0.10000000000000001\n",
       "Planet radius: 0.10000000000000001\n",
       "Planet safe radius: 0.10000000000000001\n",
       "Keplerian planet elements: \n",
       "Semi major axis (AU): 6.6845871226705987e-12\n",
       "Eccentricity: 0\n",
       "Inclination (deg.): 0\n",
       "Big Omega (deg.): 0\n",
       "Small omega (deg.): -0\n",
       "Mean anomaly (deg.): 0\n",
       "Elements reference epoch: 2017-Nov-28 00:00:00\n",
       "Ephemerides type: Keplerian\n",
       "r at ref. = [1, 0, 0]\n",
       "v at ref. = [0, 0.31622776601683794, 0]"
      ]
     },
     "execution_count": 21,
     "metadata": {},
     "output_type": "execute_result"
    }
   ],
   "source": [
    "sat"
   ]
  },
  {
   "cell_type": "code",
   "execution_count": 22,
   "metadata": {},
   "outputs": [
    {
     "data": {
      "text/plain": [
       "['__class__',\n",
       " '__copy__',\n",
       " '__deepcopy__',\n",
       " '__delattr__',\n",
       " '__dict__',\n",
       " '__dir__',\n",
       " '__doc__',\n",
       " '__eq__',\n",
       " '__format__',\n",
       " '__ge__',\n",
       " '__getattribute__',\n",
       " '__getinitargs__',\n",
       " '__getstate__',\n",
       " '__getstate_manages_dict__',\n",
       " '__gt__',\n",
       " '__hash__',\n",
       " '__init__',\n",
       " '__instance_size__',\n",
       " '__le__',\n",
       " '__lt__',\n",
       " '__module__',\n",
       " '__ne__',\n",
       " '__new__',\n",
       " '__reduce__',\n",
       " '__reduce_ex__',\n",
       " '__repr__',\n",
       " '__safe_for_unpickling__',\n",
       " '__setattr__',\n",
       " '__setstate__',\n",
       " '__sizeof__',\n",
       " '__str__',\n",
       " '__subclasshook__',\n",
       " '__weakref__',\n",
       " '_orig_init',\n",
       " 'compute_period',\n",
       " 'eph',\n",
       " 'human_readable_extra',\n",
       " 'mu_central_body',\n",
       " 'mu_self',\n",
       " 'name',\n",
       " 'orbital_elements',\n",
       " 'osculating_elements',\n",
       " 'radius',\n",
       " 'ref_epoch',\n",
       " 'ref_mjd2000',\n",
       " 'safe_radius']"
      ]
     },
     "execution_count": 22,
     "metadata": {},
     "output_type": "execute_result"
    }
   ],
   "source": [
    "dir(sat)"
   ]
  },
  {
   "cell_type": "code",
   "execution_count": 23,
   "metadata": {},
   "outputs": [
    {
     "name": "stdout",
     "output_type": "stream",
     "text": [
      "Position at epoch 2019-Mar-02 00:00:00: (0.07504426809074016, -0.9971802032866103, 0.0)\n",
      "Velocity at epoch 2019-Mar-02 00:00:00: (0.31533606800154107, 0.02373108125070344, 0.0)\n"
     ]
    }
   ],
   "source": [
    "eph = epoch(7000, \"mjd2000\")\n",
    "pos, v = sat.eph(eph)\n",
    "print(\"Position at epoch {}: {}\\nVelocity at epoch {}: {}\".format(eph, pos, eph, v))"
   ]
  },
  {
   "cell_type": "code",
   "execution_count": 24,
   "metadata": {},
   "outputs": [],
   "source": [
    "sat.name = \"D1\""
   ]
  },
  {
   "cell_type": "code",
   "execution_count": null,
   "metadata": {},
   "outputs": [],
   "source": []
  },
  {
   "cell_type": "markdown",
   "metadata": {},
   "source": [
    "## Example of simulator"
   ]
  },
  {
   "cell_type": "code",
   "execution_count": 25,
   "metadata": {},
   "outputs": [],
   "source": [
    "from simulator import Simulator, read_tle_satellites\n",
    "from api import SpaceObject, Agent, Environment"
   ]
  },
  {
   "cell_type": "code",
   "execution_count": 26,
   "metadata": {},
   "outputs": [
    {
     "data": {
      "text/plain": [
       "Planet Name: ISS (ZARYA)\n",
       "Own gravity parameter: 0.10000000000000001\n",
       "Central body gravity parameter: 398600800000000\n",
       "Planet radius: 0.10000000000000001\n",
       "Planet safe radius: 0.10000000000000001\n",
       "Ephemerides type: SGP4 propagator\n",
       "TLE epoch: 2017-Nov-26 17:09:01.999850\n",
       "TLE 1: 1 25544U 98067A   17330.71460648  .00003549  00000-0  60599-4 0  9994\n",
       "TLE 2: 2 25544  51.6430 308.0962 0004156 155.1593 190.3808 15.54237585 87025"
      ]
     },
     "execution_count": 26,
     "metadata": {},
     "output_type": "execute_result"
    }
   ],
   "source": [
    "sattelites = read_tle_satellites(\"stations.txt\")\n",
    "sattelites[0].satellite"
   ]
  },
  {
   "cell_type": "code",
   "execution_count": 27,
   "metadata": {},
   "outputs": [],
   "source": [
    "ISS, debris = sattelites[0], sattelites[1:4]\n",
    "# Example of SpaceObject with initial parameters: pos, v, epoch.\n",
    "pos, v = [2315921.25, 3814078.37, 5096751.46], [4363.18, 1981.83, 5982.45]\n",
    "epoch = pk.epoch_from_string(\"2017-Nov-27 15:16:20\")\n",
    "mu, f = 398600800000000, 1.0\n",
    "d1 = SpaceObject(\"Debris 1\", False, dict(\n",
    "    pos=pos, v=v, epoch=epoch, mu=mu, f=f))\n",
    "debris.append(d1)\n",
    "\n",
    "agent = Agent()\n",
    "env = Environment(ISS, debris)\n",
    "\n",
    "simulator = Simulator(agent, env)"
   ]
  },
  {
   "cell_type": "code",
   "execution_count": 28,
   "metadata": {},
   "outputs": [
    {
     "name": "stdout",
     "output_type": "stream",
     "text": [
      "Iter #1 \tEpoch: 2017-Nov-27 13:22:03\tCollision: False\n",
      "ISS (ZARYA) position: x - 4813621.39, y - -4347264.77, z - 1984103.09.      \n",
      "ISS (ZARYA) velocity: Vx - 2060.40, Vy - 4842.55, Vz - 5577.64      \n",
      "\n",
      "TIANGONG 1 position: x - -4862982.27, y - -799689.28, z - -4506341.23.      \n",
      "TIANGONG 1 velocity: Vx - 738.72, Vy - -7666.43, Vz - 543.40      \n",
      "\n",
      "AGGIESAT 4 position: x - 4228762.17, y - 5073980.47, z - 1017884.40.      \n",
      "AGGIESAT 4 velocity: Vx - -3132.95, Vy - 3817.45, Vz - -5943.47      \n",
      "\n",
      "FLOCK 2E'-1 position: x - -4111376.50, y - -3195221.14, z - -4237447.42.      \n",
      "FLOCK 2E'-1 velocity: Vx - 1483.22, Vy - -6653.61, Vz - 3583.07      \n",
      "\n",
      "Debris 1 position: x - -837060.25, y - -892090.12, z - 847906.93.      \n",
      "Debris 1 velocity: Vx - 0.00, Vy - -0.00, Vz - -0.00      \n",
      "\n",
      "Iter #2 \tEpoch: 2017-Nov-27 13:23:30.400000\tCollision: False\n",
      "ISS (ZARYA) position: x - 4968405.55, y - -3908806.07, z - 2455754.99.      \n",
      "ISS (ZARYA) velocity: Vx - 1519.72, Vy - 5298.89, Vz - 5331.53      \n",
      "\n",
      "TIANGONG 1 position: x - -4775037.66, y - -1456983.87, z - -4436953.99.      \n",
      "TIANGONG 1 velocity: Vx - 1295.30, Vy - -7536.12, Vz - 1061.40      \n",
      "\n",
      "AGGIESAT 4 position: x - 3937440.51, y - 5377959.54, z - 500135.44.      \n",
      "AGGIESAT 4 velocity: Vx - -3604.99, Vy - 3213.29, Vz - -6031.48      \n",
      "\n",
      "FLOCK 2E'-1 position: x - -3963262.62, y - -3753471.49, z - -3907524.04.      \n",
      "FLOCK 2E'-1 velocity: Vx - 1942.60, Vy - -6258.28, Vz - 4047.82      \n",
      "\n",
      "Debris 1 position: x - -837060.24, y - -892090.13, z - 847906.93.      \n",
      "Debris 1 velocity: Vx - 0.00, Vy - -0.00, Vz - -0.00      \n",
      "\n",
      "Iter #3 \tEpoch: 2017-Nov-27 13:24:56.800000\tCollision: False\n",
      "ISS (ZARYA) position: x - 5075810.27, y - -3433072.36, z - 2903921.18.      \n",
      "ISS (ZARYA) velocity: Vx - 964.53, Vy - 5704.71, Vz - 5034.42      \n",
      "\n",
      "TIANGONG 1 position: x - -4639532.02, y - -2099767.02, z - -4323241.57.      \n",
      "TIANGONG 1 velocity: Vx - 1838.77, Vy - -7330.80, Vz - 1568.60      \n",
      "\n",
      "AGGIESAT 4 position: x - 3606860.89, y - 5628318.30, z - -22615.17.      \n",
      "AGGIESAT 4 velocity: Vx - -4040.94, Vy - 2577.29, Vz - -6059.16      \n",
      "\n",
      "FLOCK 2E'-1 position: x - -3776238.73, y - -4274870.77, z - -3539125.29.      \n",
      "FLOCK 2E'-1 velocity: Vx - 2383.17, Vy - -5801.26, Vz - 4472.97      \n",
      "\n",
      "Debris 1 position: x - -837060.23, y - -892090.14, z - 847906.92.      \n",
      "Debris 1 velocity: Vx - 0.00, Vy - -0.00, Vz - -0.00      \n",
      "\n",
      "Iter #4 \tEpoch: 2017-Nov-27 13:26:23.200000\tCollision: False\n",
      "ISS (ZARYA) position: x - 5134810.60, y - -2924599.81, z - 3324315.16.      \n",
      "ISS (ZARYA) velocity: Vx - 400.14, Vy - 6056.13, Vz - 4689.17      \n",
      "\n",
      "TIANGONG 1 position: x - -4457829.59, y - -2721642.84, z - -4166353.50.      \n",
      "TIANGONG 1 velocity: Vx - 2363.79, Vy - -7052.55, Vz - 2060.00      \n",
      "\n",
      "AGGIESAT 4 position: x - 3240332.13, y - 5822580.66, z - -545140.16.      \n",
      "AGGIESAT 4 velocity: Vx - -4436.45, Vy - 1915.85, Vz - -6026.27      \n",
      "\n",
      "FLOCK 2E'-1 position: x - -3552118.54, y - -4754274.61, z - -3135857.63.      \n",
      "FLOCK 2E'-1 velocity: Vx - 2800.60, Vy - -5286.95, Vz - 4854.30      \n",
      "\n",
      "Debris 1 position: x - -837060.22, y - -892090.15, z - 847906.91.      \n",
      "Debris 1 velocity: Vx - 0.00, Vy - -0.00, Vz - -0.00      \n",
      "\n",
      "Iter #5 \tEpoch: 2017-Nov-27 13:27:49.600000\tCollision: False\n",
      "ISS (ZARYA) position: x - 5144844.79, y - -2388237.88, z - 3712916.99.      \n",
      "ISS (ZARYA) velocity: Vx - -168.04, Vy - 6349.78, Vz - 4299.09      \n",
      "\n",
      "TIANGONG 1 position: x - -4231749.71, y - -3316425.19, z - -3967866.03.      \n",
      "TIANGONG 1 velocity: Vx - 2865.19, Vy - -6704.16, Vz - 2530.75      \n",
      "\n",
      "AGGIESAT 4 position: x - 2841521.26, y - 5958835.54, z - -1062218.66.      \n",
      "AGGIESAT 4 velocity: Vx - -4787.59, Vy - 1235.65, Vz - -5933.20      \n",
      "\n",
      "FLOCK 2E'-1 position: x - -3293081.94, y - -5186944.40, z - -2701675.01.      \n",
      "FLOCK 2E'-1 velocity: Vx - 3190.76, Vy - -4720.33, Vz - 5188.00      \n",
      "\n",
      "Debris 1 position: x - -837060.21, y - -892090.16, z - 847906.91.      \n",
      "Debris 1 velocity: Vx - 0.00, Vy - -0.00, Vz - -0.00      \n",
      "\n"
     ]
    }
   ],
   "source": [
    "simulator.run(N=5, vizualize=False)"
   ]
  },
  {
   "cell_type": "code",
   "execution_count": null,
   "metadata": {},
   "outputs": [],
   "source": []
  },
  {
   "cell_type": "code",
   "execution_count": null,
   "metadata": {},
   "outputs": [],
   "source": []
  }
 ],
 "metadata": {
  "kernelspec": {
   "display_name": "Python 3",
   "language": "python",
   "name": "python3"
  },
  "language_info": {
   "codemirror_mode": {
    "name": "ipython",
    "version": 3
   },
   "file_extension": ".py",
   "mimetype": "text/x-python",
   "name": "python",
   "nbconvert_exporter": "python",
   "pygments_lexer": "ipython3",
   "version": "3.5.2"
  }
 },
 "nbformat": 4,
 "nbformat_minor": 2
}
